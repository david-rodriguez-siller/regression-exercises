{
 "cells": [
  {
   "cell_type": "markdown",
   "id": "685e92a0",
   "metadata": {},
   "source": [
    "### Scaling Exercises\n",
    "\n",
    "Do your work for these exercises in a jupyter notebook named scaling. Use the telco dataset you acquired and prepped in previous lesson. Once you are finished, you may wish to repeat the exercises on another dataset for additional practice."
   ]
  },
  {
   "cell_type": "code",
   "execution_count": 1,
   "id": "1f2ec1bb",
   "metadata": {},
   "outputs": [],
   "source": [
    "import matplotlib.pyplot as plt\n",
    "import numpy as np\n",
    "from scipy import stats\n",
    "import sklearn.preprocessing\n",
    "from sklearn.model_selection import train_test_split\n",
    "import pandas as pd\n",
    "from env import host, user, password"
   ]
  },
  {
   "cell_type": "code",
   "execution_count": 2,
   "id": "913b30d7",
   "metadata": {},
   "outputs": [],
   "source": [
    "def get_connection(db, user=user, host=host, password=password):\n",
    "    '''\n",
    "    This function uses my info from my env file to\n",
    "    create a connection url to access the Codeup db.\n",
    "    It takes in a string name of a database as an argument.\n",
    "    '''\n",
    "    return f'mysql+pymysql://{user}:{password}@{host}/{db}'\n",
    "    \n",
    "def new_telco_data():\n",
    "    '''\n",
    "    This function reads the iris data from the Codeup db into a df.\n",
    "    '''\n",
    "    sql_query = \"\"\"\n",
    "                select * from customers\n",
    "                join contract_types using (contract_type_id)\n",
    "                join internet_service_types using (internet_service_type_id)\n",
    "                join payment_types using (payment_type_id)\n",
    "                \"\"\"\n",
    "    \n",
    "    # Read in DataFrame from Codeup db.\n",
    "    df = pd.read_sql(sql_query, get_connection('telco_churn'))\n",
    "    \n",
    "    return df"
   ]
  },
  {
   "cell_type": "code",
   "execution_count": 37,
   "id": "6e4c9ebf",
   "metadata": {},
   "outputs": [
    {
     "data": {
      "text/html": [
       "<div>\n",
       "<style scoped>\n",
       "    .dataframe tbody tr th:only-of-type {\n",
       "        vertical-align: middle;\n",
       "    }\n",
       "\n",
       "    .dataframe tbody tr th {\n",
       "        vertical-align: top;\n",
       "    }\n",
       "\n",
       "    .dataframe thead th {\n",
       "        text-align: right;\n",
       "    }\n",
       "</style>\n",
       "<table border=\"1\" class=\"dataframe\">\n",
       "  <thead>\n",
       "    <tr style=\"text-align: right;\">\n",
       "      <th></th>\n",
       "      <th>payment_type_id</th>\n",
       "      <th>internet_service_type_id</th>\n",
       "      <th>contract_type_id</th>\n",
       "      <th>customer_id</th>\n",
       "      <th>gender</th>\n",
       "      <th>senior_citizen</th>\n",
       "      <th>partner</th>\n",
       "      <th>dependents</th>\n",
       "      <th>tenure</th>\n",
       "      <th>phone_service</th>\n",
       "      <th>...</th>\n",
       "      <th>tech_support</th>\n",
       "      <th>streaming_tv</th>\n",
       "      <th>streaming_movies</th>\n",
       "      <th>paperless_billing</th>\n",
       "      <th>monthly_charges</th>\n",
       "      <th>total_charges</th>\n",
       "      <th>churn</th>\n",
       "      <th>contract_type</th>\n",
       "      <th>internet_service_type</th>\n",
       "      <th>payment_type</th>\n",
       "    </tr>\n",
       "  </thead>\n",
       "  <tbody>\n",
       "    <tr>\n",
       "      <th>0</th>\n",
       "      <td>1</td>\n",
       "      <td>1</td>\n",
       "      <td>2</td>\n",
       "      <td>2794-XIMMO</td>\n",
       "      <td>Male</td>\n",
       "      <td>0</td>\n",
       "      <td>Yes</td>\n",
       "      <td>No</td>\n",
       "      <td>53</td>\n",
       "      <td>No</td>\n",
       "      <td>...</td>\n",
       "      <td>Yes</td>\n",
       "      <td>Yes</td>\n",
       "      <td>Yes</td>\n",
       "      <td>Yes</td>\n",
       "      <td>60.45</td>\n",
       "      <td>3184.25</td>\n",
       "      <td>Yes</td>\n",
       "      <td>One year</td>\n",
       "      <td>DSL</td>\n",
       "      <td>Electronic check</td>\n",
       "    </tr>\n",
       "    <tr>\n",
       "      <th>1</th>\n",
       "      <td>1</td>\n",
       "      <td>1</td>\n",
       "      <td>2</td>\n",
       "      <td>2851-STERV</td>\n",
       "      <td>Male</td>\n",
       "      <td>1</td>\n",
       "      <td>No</td>\n",
       "      <td>No</td>\n",
       "      <td>35</td>\n",
       "      <td>Yes</td>\n",
       "      <td>...</td>\n",
       "      <td>Yes</td>\n",
       "      <td>Yes</td>\n",
       "      <td>Yes</td>\n",
       "      <td>Yes</td>\n",
       "      <td>73.00</td>\n",
       "      <td>2471.25</td>\n",
       "      <td>No</td>\n",
       "      <td>One year</td>\n",
       "      <td>DSL</td>\n",
       "      <td>Electronic check</td>\n",
       "    </tr>\n",
       "    <tr>\n",
       "      <th>2</th>\n",
       "      <td>1</td>\n",
       "      <td>1</td>\n",
       "      <td>2</td>\n",
       "      <td>2898-LSJGD</td>\n",
       "      <td>Female</td>\n",
       "      <td>0</td>\n",
       "      <td>Yes</td>\n",
       "      <td>Yes</td>\n",
       "      <td>21</td>\n",
       "      <td>No</td>\n",
       "      <td>...</td>\n",
       "      <td>No</td>\n",
       "      <td>Yes</td>\n",
       "      <td>Yes</td>\n",
       "      <td>Yes</td>\n",
       "      <td>55.95</td>\n",
       "      <td>1157.05</td>\n",
       "      <td>Yes</td>\n",
       "      <td>One year</td>\n",
       "      <td>DSL</td>\n",
       "      <td>Electronic check</td>\n",
       "    </tr>\n",
       "  </tbody>\n",
       "</table>\n",
       "<p>3 rows × 24 columns</p>\n",
       "</div>"
      ],
      "text/plain": [
       "   payment_type_id  internet_service_type_id  contract_type_id customer_id  \\\n",
       "0                1                         1                 2  2794-XIMMO   \n",
       "1                1                         1                 2  2851-STERV   \n",
       "2                1                         1                 2  2898-LSJGD   \n",
       "\n",
       "   gender  senior_citizen partner dependents  tenure phone_service  ...  \\\n",
       "0    Male               0     Yes         No      53            No  ...   \n",
       "1    Male               1      No         No      35           Yes  ...   \n",
       "2  Female               0     Yes        Yes      21            No  ...   \n",
       "\n",
       "  tech_support streaming_tv streaming_movies paperless_billing  \\\n",
       "0          Yes          Yes              Yes               Yes   \n",
       "1          Yes          Yes              Yes               Yes   \n",
       "2           No          Yes              Yes               Yes   \n",
       "\n",
       "  monthly_charges total_charges churn contract_type  internet_service_type  \\\n",
       "0           60.45       3184.25   Yes      One year                    DSL   \n",
       "1           73.00       2471.25    No      One year                    DSL   \n",
       "2           55.95       1157.05   Yes      One year                    DSL   \n",
       "\n",
       "       payment_type  \n",
       "0  Electronic check  \n",
       "1  Electronic check  \n",
       "2  Electronic check  \n",
       "\n",
       "[3 rows x 24 columns]"
      ]
     },
     "execution_count": 37,
     "metadata": {},
     "output_type": "execute_result"
    }
   ],
   "source": [
    "df = new_telco_data()\n",
    "df.head(3)"
   ]
  },
  {
   "cell_type": "code",
   "execution_count": 38,
   "id": "bf12051f",
   "metadata": {},
   "outputs": [],
   "source": [
    "# prepare telco\n",
    "df.drop_duplicates(inplace = True)\n",
    "df = df.replace(r'^\\s*$', np.nan, regex = True)\n",
    "df.total_charges = df.total_charges.astype('float64')\n",
    "df.senior_citizen = df.senior_citizen.replace({0:'No', 1:'Yes'})\n",
    "df.dropna(inplace = True)\n",
    "df = df.drop(columns = ['payment_type_id', 'internet_service_type_id', 'contract_type_id',\n",
    "       'customer_id'])"
   ]
  },
  {
   "cell_type": "code",
   "execution_count": 39,
   "id": "0bead724",
   "metadata": {
    "scrolled": false
   },
   "outputs": [
    {
     "name": "stdout",
     "output_type": "stream",
     "text": [
      "<class 'pandas.core.frame.DataFrame'>\n",
      "Int64Index: 7032 entries, 0 to 7042\n",
      "Data columns (total 20 columns):\n",
      " #   Column                 Non-Null Count  Dtype  \n",
      "---  ------                 --------------  -----  \n",
      " 0   gender                 7032 non-null   object \n",
      " 1   senior_citizen         7032 non-null   object \n",
      " 2   partner                7032 non-null   object \n",
      " 3   dependents             7032 non-null   object \n",
      " 4   tenure                 7032 non-null   int64  \n",
      " 5   phone_service          7032 non-null   object \n",
      " 6   multiple_lines         7032 non-null   object \n",
      " 7   online_security        7032 non-null   object \n",
      " 8   online_backup          7032 non-null   object \n",
      " 9   device_protection      7032 non-null   object \n",
      " 10  tech_support           7032 non-null   object \n",
      " 11  streaming_tv           7032 non-null   object \n",
      " 12  streaming_movies       7032 non-null   object \n",
      " 13  paperless_billing      7032 non-null   object \n",
      " 14  monthly_charges        7032 non-null   float64\n",
      " 15  total_charges          7032 non-null   float64\n",
      " 16  churn                  7032 non-null   object \n",
      " 17  contract_type          7032 non-null   object \n",
      " 18  internet_service_type  7032 non-null   object \n",
      " 19  payment_type           7032 non-null   object \n",
      "dtypes: float64(2), int64(1), object(17)\n",
      "memory usage: 1.1+ MB\n"
     ]
    }
   ],
   "source": [
    "df.info()"
   ]
  },
  {
   "cell_type": "markdown",
   "id": "e9c6b6e5",
   "metadata": {},
   "source": [
    "1. Apply the scalers we talked about in this lesson to your data and visualize the results for the unscaled and scaled distribution."
   ]
  },
  {
   "cell_type": "code",
   "execution_count": 40,
   "id": "1c68b10f",
   "metadata": {},
   "outputs": [
    {
     "data": {
      "text/plain": [
       "((1758, 20), (3955, 20), (1319, 20))"
      ]
     },
     "execution_count": 40,
     "metadata": {},
     "output_type": "execute_result"
    }
   ],
   "source": [
    "train_and_validate, test = train_test_split(df, random_state=123)\n",
    "train, validate = train_test_split(train_and_validate)\n",
    "test.shape, train.shape, validate.shape"
   ]
  },
  {
   "cell_type": "code",
   "execution_count": 41,
   "id": "e63dc7aa",
   "metadata": {},
   "outputs": [],
   "source": [
    "num_cols = list(train.select_dtypes(exclude = object).columns)"
   ]
  },
  {
   "cell_type": "code",
   "execution_count": 42,
   "id": "1cf94242",
   "metadata": {
    "scrolled": true
   },
   "outputs": [
    {
     "data": {
      "text/plain": [
       "array([[0.78873239, 0.20945274, 0.24147381],\n",
       "       [0.4084507 , 0.07064677, 0.08128941],\n",
       "       [0.46478873, 0.31791045, 0.20729983],\n",
       "       [0.26760563, 0.65771144, 0.1992107 ],\n",
       "       [0.29577465, 0.8199005 , 0.27661134],\n",
       "       [0.53521127, 0.72089552, 0.39169393],\n",
       "       [0.01408451, 0.25970149, 0.0072006 ],\n",
       "       [0.32394366, 0.70945274, 0.25020915],\n",
       "       [0.        , 0.55870647, 0.00641015],\n",
       "       [0.43661972, 0.36218905, 0.20900767]])"
      ]
     },
     "execution_count": 42,
     "metadata": {},
     "output_type": "execute_result"
    }
   ],
   "source": [
    "# Min Max Scaler\n",
    "scaler = sklearn.preprocessing.MinMaxScaler()\n",
    "scaler.fit(train[['tenure', 'monthly_charges', 'total_charges']])\n",
    "\n",
    "train_scaled = scaler.transform(train[['tenure', 'monthly_charges', 'total_charges']])\n",
    "validate_scaled = scaler.transform(validate[['tenure', 'monthly_charges', 'total_charges']])\n",
    "test_scaled = scaler.transform(test[['tenure', 'monthly_charges', 'total_charges']])\n",
    "train_scaled[:10]"
   ]
  },
  {
   "cell_type": "code",
   "execution_count": 43,
   "id": "77113a51",
   "metadata": {},
   "outputs": [
    {
     "name": "stderr",
     "output_type": "stream",
     "text": [
      "/Users/davidrodriguez/anaconda3/lib/python3.7/site-packages/pandas/core/frame.py:3678: SettingWithCopyWarning: \n",
      "A value is trying to be set on a copy of a slice from a DataFrame.\n",
      "Try using .loc[row_indexer,col_indexer] = value instead\n",
      "\n",
      "See the caveats in the documentation: https://pandas.pydata.org/pandas-docs/stable/user_guide/indexing.html#returning-a-view-versus-a-copy\n",
      "  self[col] = igetitem(value, i)\n",
      "/Users/davidrodriguez/anaconda3/lib/python3.7/site-packages/pandas/core/frame.py:3678: SettingWithCopyWarning: \n",
      "A value is trying to be set on a copy of a slice from a DataFrame.\n",
      "Try using .loc[row_indexer,col_indexer] = value instead\n",
      "\n",
      "See the caveats in the documentation: https://pandas.pydata.org/pandas-docs/stable/user_guide/indexing.html#returning-a-view-versus-a-copy\n",
      "  self[col] = igetitem(value, i)\n",
      "/Users/davidrodriguez/anaconda3/lib/python3.7/site-packages/pandas/core/frame.py:3678: SettingWithCopyWarning: \n",
      "A value is trying to be set on a copy of a slice from a DataFrame.\n",
      "Try using .loc[row_indexer,col_indexer] = value instead\n",
      "\n",
      "See the caveats in the documentation: https://pandas.pydata.org/pandas-docs/stable/user_guide/indexing.html#returning-a-view-versus-a-copy\n",
      "  self[col] = igetitem(value, i)\n"
     ]
    }
   ],
   "source": [
    "# add scaled values back to split dataframes\n",
    "train[['tenure_scaled', 'monthly_charges_scaled', 'total_charges_scaled']] = scaler.transform(train[['tenure', 'monthly_charges', 'total_charges']])\n",
    "validate[['tenure_scaled', 'monthly_charges_scaled', 'total_charges_scaled']] = scaler.transform(validate[['tenure', 'monthly_charges', 'total_charges']])\n",
    "test[['tenure_scaled', 'monthly_charges_scaled', 'total_charges_scaled']] = scaler.transform(test[['tenure', 'monthly_charges', 'total_charges']])"
   ]
  },
  {
   "cell_type": "code",
   "execution_count": 50,
   "id": "8d9298ee",
   "metadata": {},
   "outputs": [
    {
     "data": {
      "image/png": "[encoded data removed]",
      "text/plain": [
       "<Figure size 936x432 with 6 Axes>"
      ]
     },
     "metadata": {
      "needs_background": "light"
     },
     "output_type": "display_data"
    }
   ],
   "source": [
    "plt.figure(figsize=(13, 6))\n",
    "plt.subplot(321)\n",
    "plt.hist(train.tenure, bins=25, ec='black')\n",
    "plt.title('Original')\n",
    "plt.subplot(322)\n",
    "plt.hist(train.tenure_scaled, bins=25, ec='black')\n",
    "plt.title('Min_Max Scaled')\n",
    "plt.subplot(323)\n",
    "plt.hist(train.monthly_charges, bins=25, ec='black')\n",
    "plt.subplot(324)\n",
    "plt.hist(train.monthly_charges_scaled, bins=25, ec='black')\n",
    "plt.subplot(325)\n",
    "plt.hist(train.total_charges, bins=25, ec='black')\n",
    "plt.subplot(326)\n",
    "plt.hist(train.total_charges_scaled, bins=25, ec='black');"
   ]
  },
  {
   "cell_type": "code",
   "execution_count": 52,
   "id": "178985a6",
   "metadata": {},
   "outputs": [
    {
     "data": {
      "image/png": "[encoded data removed]",
      "text/plain": [
       "<Figure size 432x288 with 3 Axes>"
      ]
     },
     "metadata": {
      "needs_background": "light"
     },
     "output_type": "display_data"
    }
   ],
   "source": [
    "plt.subplot(131)\n",
    "plt.scatter(train.tenure, train.tenure_scaled)\n",
    "plt.xlabel('Tenure (Months)')\n",
    "plt.ylabel('Tenure Scaled')\n",
    "plt.title('Min-Max Scaler')\n",
    "plt.subplot(132)\n",
    "plt.scatter(train.monthly_charges, train.monthly_charges_scaled)\n",
    "plt.xlabel('Monthly Charges ($)')\n",
    "plt.ylabel('Monthly Charges Scaled')\n",
    "plt.title('Min-Max Scaler')\n",
    "plt.subplot(133)\n",
    "plt.scatter(train.total_charges, train.total_charges_scaled)\n",
    "plt.xlabel('Total Charges ($)')\n",
    "plt.ylabel('Total Charges Scaled')\n",
    "plt.title('Min-Max Scaler');"
   ]
  },
  {
   "cell_type": "code",
   "execution_count": 53,
   "id": "a2862334",
   "metadata": {},
   "outputs": [],
   "source": [
    "# Standard Scaler\n",
    "scaler = sklearn.preprocessing.StandardScaler()\n",
    "scaler.fit(train[['tenure', 'monthly_charges', 'total_charges']])\n",
    "\n",
    "train_scaled = scaler.transform(train[['tenure', 'monthly_charges', 'total_charges']])\n",
    "validate_scaled = scaler.transform(validate[['tenure', 'monthly_charges', 'total_charges']])\n",
    "test_scaled = scaler.transform(test[['tenure', 'monthly_charges', 'total_charges']])"
   ]
  },
  {
   "cell_type": "code",
   "execution_count": 54,
   "id": "3b0aca37",
   "metadata": {
    "scrolled": false
   },
   "outputs": [
    {
     "name": "stderr",
     "output_type": "stream",
     "text": [
      "/Users/davidrodriguez/anaconda3/lib/python3.7/site-packages/pandas/core/frame.py:3678: SettingWithCopyWarning: \n",
      "A value is trying to be set on a copy of a slice from a DataFrame.\n",
      "Try using .loc[row_indexer,col_indexer] = value instead\n",
      "\n",
      "See the caveats in the documentation: https://pandas.pydata.org/pandas-docs/stable/user_guide/indexing.html#returning-a-view-versus-a-copy\n",
      "  self[col] = igetitem(value, i)\n",
      "/Users/davidrodriguez/anaconda3/lib/python3.7/site-packages/pandas/core/frame.py:3678: SettingWithCopyWarning: \n",
      "A value is trying to be set on a copy of a slice from a DataFrame.\n",
      "Try using .loc[row_indexer,col_indexer] = value instead\n",
      "\n",
      "See the caveats in the documentation: https://pandas.pydata.org/pandas-docs/stable/user_guide/indexing.html#returning-a-view-versus-a-copy\n",
      "  self[col] = igetitem(value, i)\n",
      "/Users/davidrodriguez/anaconda3/lib/python3.7/site-packages/pandas/core/frame.py:3678: SettingWithCopyWarning: \n",
      "A value is trying to be set on a copy of a slice from a DataFrame.\n",
      "Try using .loc[row_indexer,col_indexer] = value instead\n",
      "\n",
      "See the caveats in the documentation: https://pandas.pydata.org/pandas-docs/stable/user_guide/indexing.html#returning-a-view-versus-a-copy\n",
      "  self[col] = igetitem(value, i)\n"
     ]
    }
   ],
   "source": [
    "# add scaled values back to split dataframes\n",
    "train[['tenure_scaled', 'monthly_charges_scaled', 'total_charges_scaled']] = scaler.transform(train[['tenure', 'monthly_charges', 'total_charges']])\n",
    "validate[['tenure_scaled', 'monthly_charges_scaled', 'total_charges_scaled']] = scaler.transform(validate[['tenure', 'monthly_charges', 'total_charges']])\n",
    "test[['tenure_scaled', 'monthly_charges_scaled', 'total_charges_scaled']] = scaler.transform(test[['tenure', 'monthly_charges', 'total_charges']])"
   ]
  },
  {
   "cell_type": "code",
   "execution_count": 55,
   "id": "3dc68883",
   "metadata": {},
   "outputs": [
    {
     "data": {
      "image/png": "[encoded data removed]",
      "text/plain": [
       "<Figure size 936x432 with 6 Axes>"
      ]
     },
     "metadata": {
      "needs_background": "light"
     },
     "output_type": "display_data"
    }
   ],
   "source": [
    "plt.figure(figsize=(13, 6))\n",
    "plt.subplot(321)\n",
    "plt.hist(train.tenure, bins=25, ec='black')\n",
    "plt.title('Original')\n",
    "plt.subplot(322)\n",
    "plt.hist(train.tenure_scaled, bins=25, ec='black')\n",
    "plt.title('Standard Scaled')\n",
    "plt.subplot(323)\n",
    "plt.hist(train.monthly_charges, bins=25, ec='black')\n",
    "plt.subplot(324)\n",
    "plt.hist(train.monthly_charges_scaled, bins=25, ec='black')\n",
    "plt.subplot(325)\n",
    "plt.hist(train.total_charges, bins=25, ec='black')\n",
    "plt.subplot(326)\n",
    "plt.hist(train.total_charges_scaled, bins=25, ec='black');"
   ]
  },
  {
   "cell_type": "code",
   "execution_count": 60,
   "id": "13b6f8bd",
   "metadata": {},
   "outputs": [
    {
     "data": {
      "image/png": "[encoded data removed]",
      "text/plain": [
       "<Figure size 432x288 with 3 Axes>"
      ]
     },
     "metadata": {
      "needs_background": "light"
     },
     "output_type": "display_data"
    }
   ],
   "source": [
    "plt.subplot(131)\n",
    "plt.scatter(train.tenure, train.tenure_scaled)\n",
    "plt.xlabel('Tenure (Months)')\n",
    "plt.ylabel('Tenure Scaled')\n",
    "plt.title('Standard Scaler')\n",
    "plt.subplot(132)\n",
    "plt.scatter(train.monthly_charges, train.monthly_charges_scaled)\n",
    "plt.xlabel('Monthly Charges ($)')\n",
    "plt.ylabel('Monthly Charges Scaled')\n",
    "plt.title('Standard Scaler')\n",
    "plt.subplot(133)\n",
    "plt.scatter(train.total_charges, train.total_charges_scaled)\n",
    "plt.xlabel('Total Charges ($)')\n",
    "plt.ylabel('Total Charges Scaled')\n",
    "plt.title('Standard Scaler');"
   ]
  },
  {
   "cell_type": "code",
   "execution_count": 61,
   "id": "10d28837",
   "metadata": {},
   "outputs": [],
   "source": [
    "# Robust Scaler\n",
    "scaler = sklearn.preprocessing.RobustScaler()\n",
    "scaler.fit(train[['tenure', 'monthly_charges', 'total_charges']])\n",
    "\n",
    "train_scaled = scaler.transform(train[['tenure', 'monthly_charges', 'total_charges']])\n",
    "validate_scaled = scaler.transform(validate[['tenure', 'monthly_charges', 'total_charges']])\n",
    "test_scaled = scaler.transform(test[['tenure', 'monthly_charges', 'total_charges']])"
   ]
  },
  {
   "cell_type": "code",
   "execution_count": 62,
   "id": "cc23467b",
   "metadata": {
    "scrolled": false
   },
   "outputs": [
    {
     "name": "stderr",
     "output_type": "stream",
     "text": [
      "/Users/davidrodriguez/anaconda3/lib/python3.7/site-packages/pandas/core/frame.py:3678: SettingWithCopyWarning: \n",
      "A value is trying to be set on a copy of a slice from a DataFrame.\n",
      "Try using .loc[row_indexer,col_indexer] = value instead\n",
      "\n",
      "See the caveats in the documentation: https://pandas.pydata.org/pandas-docs/stable/user_guide/indexing.html#returning-a-view-versus-a-copy\n",
      "  self[col] = igetitem(value, i)\n",
      "/Users/davidrodriguez/anaconda3/lib/python3.7/site-packages/pandas/core/frame.py:3678: SettingWithCopyWarning: \n",
      "A value is trying to be set on a copy of a slice from a DataFrame.\n",
      "Try using .loc[row_indexer,col_indexer] = value instead\n",
      "\n",
      "See the caveats in the documentation: https://pandas.pydata.org/pandas-docs/stable/user_guide/indexing.html#returning-a-view-versus-a-copy\n",
      "  self[col] = igetitem(value, i)\n",
      "/Users/davidrodriguez/anaconda3/lib/python3.7/site-packages/pandas/core/frame.py:3678: SettingWithCopyWarning: \n",
      "A value is trying to be set on a copy of a slice from a DataFrame.\n",
      "Try using .loc[row_indexer,col_indexer] = value instead\n",
      "\n",
      "See the caveats in the documentation: https://pandas.pydata.org/pandas-docs/stable/user_guide/indexing.html#returning-a-view-versus-a-copy\n",
      "  self[col] = igetitem(value, i)\n"
     ]
    }
   ],
   "source": [
    "# add scaled values back to split dataframes\n",
    "train[['tenure_scaled', 'monthly_charges_scaled', 'total_charges_scaled']] = scaler.transform(train[['tenure', 'monthly_charges', 'total_charges']])\n",
    "validate[['tenure_scaled', 'monthly_charges_scaled', 'total_charges_scaled']] = scaler.transform(validate[['tenure', 'monthly_charges', 'total_charges']])\n",
    "test[['tenure_scaled', 'monthly_charges_scaled', 'total_charges_scaled']] = scaler.transform(test[['tenure', 'monthly_charges', 'total_charges']])"
   ]
  },
  {
   "cell_type": "code",
   "execution_count": 65,
   "id": "0327d030",
   "metadata": {
    "scrolled": false
   },
   "outputs": [
    {
     "data": {
      "image/png": "[encoded data removed]",
      "text/plain": [
       "<Figure size 936x432 with 6 Axes>"
      ]
     },
     "metadata": {
      "needs_background": "light"
     },
     "output_type": "display_data"
    }
   ],
   "source": [
    "plt.figure(figsize=(13, 6))\n",
    "plt.subplot(321)\n",
    "plt.hist(train.tenure, bins=25, ec='black')\n",
    "plt.title('Original')\n",
    "plt.subplot(322)\n",
    "plt.hist(train.tenure_scaled, bins=25, ec='black')\n",
    "plt.title('Robust Scaled')\n",
    "plt.subplot(323)\n",
    "plt.hist(train.monthly_charges, bins=25, ec='black')\n",
    "plt.subplot(324)\n",
    "plt.hist(train.monthly_charges_scaled, bins=25, ec='black')\n",
    "plt.subplot(325)\n",
    "plt.hist(train.total_charges, bins=25, ec='black')\n",
    "plt.subplot(326)\n",
    "plt.hist(train.total_charges_scaled, bins=25, ec='black');"
   ]
  },
  {
   "cell_type": "code",
   "execution_count": 66,
   "id": "8229633d",
   "metadata": {
    "scrolled": false
   },
   "outputs": [
    {
     "data": {
      "image/png": "[encoded data removed]",
      "text/plain": [
       "<Figure size 432x288 with 3 Axes>"
      ]
     },
     "metadata": {
      "needs_background": "light"
     },
     "output_type": "display_data"
    }
   ],
   "source": [
    "plt.subplot(131)\n",
    "plt.scatter(train.tenure, train.tenure_scaled)\n",
    "plt.xlabel('Tenure (Months)')\n",
    "plt.ylabel('Tenure Scaled')\n",
    "plt.title('Robust Scaler')\n",
    "plt.subplot(132)\n",
    "plt.scatter(train.monthly_charges, train.monthly_charges_scaled)\n",
    "plt.xlabel('Monthly Charges ($)')\n",
    "plt.ylabel('Monthly Charges Scaled')\n",
    "plt.title('Robust Scaler')\n",
    "plt.subplot(133)\n",
    "plt.scatter(train.total_charges, train.total_charges_scaled)\n",
    "plt.xlabel('Total Charges ($)')\n",
    "plt.ylabel('Total Charges Scaled')\n",
    "plt.title('Robust Scaler');"
   ]
  },
  {
   "cell_type": "code",
   "execution_count": 67,
   "id": "933c89e6",
   "metadata": {},
   "outputs": [],
   "source": [
    "# Non-Linear Scaler\n",
    "scaler = sklearn.preprocessing.QuantileTransformer(output_distribution = 'normal')\n",
    "scaler.fit(train[['tenure', 'monthly_charges', 'total_charges']])\n",
    "\n",
    "train_scaled = scaler.transform(train[['tenure', 'monthly_charges', 'total_charges']])\n",
    "validate_scaled = scaler.transform(validate[['tenure', 'monthly_charges', 'total_charges']])\n",
    "test_scaled = scaler.transform(test[['tenure', 'monthly_charges', 'total_charges']])"
   ]
  },
  {
   "cell_type": "code",
   "execution_count": 68,
   "id": "a598463d",
   "metadata": {
    "scrolled": false
   },
   "outputs": [
    {
     "name": "stderr",
     "output_type": "stream",
     "text": [
      "/Users/davidrodriguez/anaconda3/lib/python3.7/site-packages/pandas/core/frame.py:3678: SettingWithCopyWarning: \n",
      "A value is trying to be set on a copy of a slice from a DataFrame.\n",
      "Try using .loc[row_indexer,col_indexer] = value instead\n",
      "\n",
      "See the caveats in the documentation: https://pandas.pydata.org/pandas-docs/stable/user_guide/indexing.html#returning-a-view-versus-a-copy\n",
      "  self[col] = igetitem(value, i)\n",
      "/Users/davidrodriguez/anaconda3/lib/python3.7/site-packages/pandas/core/frame.py:3678: SettingWithCopyWarning: \n",
      "A value is trying to be set on a copy of a slice from a DataFrame.\n",
      "Try using .loc[row_indexer,col_indexer] = value instead\n",
      "\n",
      "See the caveats in the documentation: https://pandas.pydata.org/pandas-docs/stable/user_guide/indexing.html#returning-a-view-versus-a-copy\n",
      "  self[col] = igetitem(value, i)\n",
      "/Users/davidrodriguez/anaconda3/lib/python3.7/site-packages/pandas/core/frame.py:3678: SettingWithCopyWarning: \n",
      "A value is trying to be set on a copy of a slice from a DataFrame.\n",
      "Try using .loc[row_indexer,col_indexer] = value instead\n",
      "\n",
      "See the caveats in the documentation: https://pandas.pydata.org/pandas-docs/stable/user_guide/indexing.html#returning-a-view-versus-a-copy\n",
      "  self[col] = igetitem(value, i)\n"
     ]
    }
   ],
   "source": [
    "# add scaled values back to split dataframes\n",
    "train[['tenure_scaled', 'monthly_charges_scaled', 'total_charges_scaled']] = scaler.transform(train[['tenure', 'monthly_charges', 'total_charges']])\n",
    "validate[['tenure_scaled', 'monthly_charges_scaled', 'total_charges_scaled']] = scaler.transform(validate[['tenure', 'monthly_charges', 'total_charges']])\n",
    "test[['tenure_scaled', 'monthly_charges_scaled', 'total_charges_scaled']] = scaler.transform(test[['tenure', 'monthly_charges', 'total_charges']])"
   ]
  },
  {
   "cell_type": "code",
   "execution_count": 69,
   "id": "06202431",
   "metadata": {
    "scrolled": false
   },
   "outputs": [
    {
     "data": {
      "image/png": "[encoded data removed]",
      "text/plain": [
       "<Figure size 936x432 with 6 Axes>"
      ]
     },
     "metadata": {
      "needs_background": "light"
     },
     "output_type": "display_data"
    }
   ],
   "source": [
    "plt.figure(figsize=(13, 6))\n",
    "plt.subplot(321)\n",
    "plt.hist(train.tenure, bins=25, ec='black')\n",
    "plt.title('Original')\n",
    "plt.subplot(322)\n",
    "plt.hist(train.tenure_scaled, bins=25, ec='black')\n",
    "plt.title('Non-Linear Scaled')\n",
    "plt.subplot(323)\n",
    "plt.hist(train.monthly_charges, bins=25, ec='black')\n",
    "plt.subplot(324)\n",
    "plt.hist(train.monthly_charges_scaled, bins=25, ec='black')\n",
    "plt.subplot(325)\n",
    "plt.hist(train.total_charges, bins=25, ec='black')\n",
    "plt.subplot(326)\n",
    "plt.hist(train.total_charges_scaled, bins=25, ec='black');"
   ]
  },
  {
   "cell_type": "code",
   "execution_count": 70,
   "id": "8bf706ae",
   "metadata": {
    "scrolled": false
   },
   "outputs": [
    {
     "data": {
      "image/png": "[encoded data removed]",
      "text/plain": [
       "<Figure size 432x288 with 3 Axes>"
      ]
     },
     "metadata": {
      "needs_background": "light"
     },
     "output_type": "display_data"
    }
   ],
   "source": [
    "plt.subplot(131)\n",
    "plt.scatter(train.tenure, train.tenure_scaled)\n",
    "plt.xlabel('Tenure (Months)')\n",
    "plt.ylabel('Tenure Scaled')\n",
    "plt.title('Non-Linear Scaler')\n",
    "plt.subplot(132)\n",
    "plt.scatter(train.monthly_charges, train.monthly_charges_scaled)\n",
    "plt.xlabel('Monthly Charges ($)')\n",
    "plt.ylabel('Monthly Charges Scaled')\n",
    "plt.title('Non-Linear Scaler')\n",
    "plt.subplot(133)\n",
    "plt.scatter(train.total_charges, train.total_charges_scaled)\n",
    "plt.xlabel('Total Charges ($)')\n",
    "plt.ylabel('Total Charges Scaled')\n",
    "plt.title('Non-Linear Scaler');"
   ]
  },
  {
   "cell_type": "code",
   "execution_count": 71,
   "id": "c88d4210",
   "metadata": {},
   "outputs": [
    {
     "data": {
      "text/html": [
       "<div>\n",
       "<style scoped>\n",
       "    .dataframe tbody tr th:only-of-type {\n",
       "        vertical-align: middle;\n",
       "    }\n",
       "\n",
       "    .dataframe tbody tr th {\n",
       "        vertical-align: top;\n",
       "    }\n",
       "\n",
       "    .dataframe thead th {\n",
       "        text-align: right;\n",
       "    }\n",
       "</style>\n",
       "<table border=\"1\" class=\"dataframe\">\n",
       "  <thead>\n",
       "    <tr style=\"text-align: right;\">\n",
       "      <th></th>\n",
       "      <th>gender</th>\n",
       "      <th>senior_citizen</th>\n",
       "      <th>partner</th>\n",
       "      <th>dependents</th>\n",
       "      <th>tenure</th>\n",
       "      <th>phone_service</th>\n",
       "      <th>multiple_lines</th>\n",
       "      <th>online_security</th>\n",
       "      <th>online_backup</th>\n",
       "      <th>device_protection</th>\n",
       "      <th>...</th>\n",
       "      <th>paperless_billing</th>\n",
       "      <th>monthly_charges</th>\n",
       "      <th>total_charges</th>\n",
       "      <th>churn</th>\n",
       "      <th>contract_type</th>\n",
       "      <th>internet_service_type</th>\n",
       "      <th>payment_type</th>\n",
       "      <th>tenure_scaled</th>\n",
       "      <th>monthly_charges_scaled</th>\n",
       "      <th>total_charges_scaled</th>\n",
       "    </tr>\n",
       "  </thead>\n",
       "  <tbody>\n",
       "    <tr>\n",
       "      <th>271</th>\n",
       "      <td>Male</td>\n",
       "      <td>No</td>\n",
       "      <td>No</td>\n",
       "      <td>No</td>\n",
       "      <td>57</td>\n",
       "      <td>No</td>\n",
       "      <td>No phone service</td>\n",
       "      <td>No</td>\n",
       "      <td>Yes</td>\n",
       "      <td>No</td>\n",
       "      <td>...</td>\n",
       "      <td>Yes</td>\n",
       "      <td>39.30</td>\n",
       "      <td>2111.45</td>\n",
       "      <td>Yes</td>\n",
       "      <td>Month-to-month</td>\n",
       "      <td>DSL</td>\n",
       "      <td>Electronic check</td>\n",
       "      <td>0.715218</td>\n",
       "      <td>-0.658425</td>\n",
       "      <td>0.278566</td>\n",
       "    </tr>\n",
       "    <tr>\n",
       "      <th>6380</th>\n",
       "      <td>Male</td>\n",
       "      <td>No</td>\n",
       "      <td>No</td>\n",
       "      <td>Yes</td>\n",
       "      <td>30</td>\n",
       "      <td>Yes</td>\n",
       "      <td>Yes</td>\n",
       "      <td>No internet service</td>\n",
       "      <td>No internet service</td>\n",
       "      <td>No internet service</td>\n",
       "      <td>...</td>\n",
       "      <td>No</td>\n",
       "      <td>25.35</td>\n",
       "      <td>723.30</td>\n",
       "      <td>No</td>\n",
       "      <td>One year</td>\n",
       "      <td>None</td>\n",
       "      <td>Bank transfer (automatic)</td>\n",
       "      <td>0.033880</td>\n",
       "      <td>-0.809168</td>\n",
       "      <td>-0.412642</td>\n",
       "    </tr>\n",
       "    <tr>\n",
       "      <th>5560</th>\n",
       "      <td>Female</td>\n",
       "      <td>No</td>\n",
       "      <td>Yes</td>\n",
       "      <td>No</td>\n",
       "      <td>34</td>\n",
       "      <td>Yes</td>\n",
       "      <td>No</td>\n",
       "      <td>No</td>\n",
       "      <td>No</td>\n",
       "      <td>No</td>\n",
       "      <td>...</td>\n",
       "      <td>No</td>\n",
       "      <td>50.20</td>\n",
       "      <td>1815.30</td>\n",
       "      <td>No</td>\n",
       "      <td>Month-to-month</td>\n",
       "      <td>DSL</td>\n",
       "      <td>Bank transfer (automatic)</td>\n",
       "      <td>0.127052</td>\n",
       "      <td>-0.444534</td>\n",
       "      <td>0.190068</td>\n",
       "    </tr>\n",
       "  </tbody>\n",
       "</table>\n",
       "<p>3 rows × 23 columns</p>\n",
       "</div>"
      ],
      "text/plain": [
       "      gender senior_citizen partner dependents  tenure phone_service  \\\n",
       "271     Male             No      No         No      57            No   \n",
       "6380    Male             No      No        Yes      30           Yes   \n",
       "5560  Female             No     Yes         No      34           Yes   \n",
       "\n",
       "        multiple_lines      online_security        online_backup  \\\n",
       "271   No phone service                   No                  Yes   \n",
       "6380               Yes  No internet service  No internet service   \n",
       "5560                No                   No                   No   \n",
       "\n",
       "        device_protection  ... paperless_billing monthly_charges  \\\n",
       "271                    No  ...               Yes           39.30   \n",
       "6380  No internet service  ...                No           25.35   \n",
       "5560                   No  ...                No           50.20   \n",
       "\n",
       "     total_charges churn   contract_type  internet_service_type  \\\n",
       "271        2111.45   Yes  Month-to-month                    DSL   \n",
       "6380        723.30    No        One year                   None   \n",
       "5560       1815.30    No  Month-to-month                    DSL   \n",
       "\n",
       "                   payment_type tenure_scaled monthly_charges_scaled  \\\n",
       "271            Electronic check      0.715218              -0.658425   \n",
       "6380  Bank transfer (automatic)      0.033880              -0.809168   \n",
       "5560  Bank transfer (automatic)      0.127052              -0.444534   \n",
       "\n",
       "     total_charges_scaled  \n",
       "271              0.278566  \n",
       "6380            -0.412642  \n",
       "5560             0.190068  \n",
       "\n",
       "[3 rows x 23 columns]"
      ]
     },
     "execution_count": 71,
     "metadata": {},
     "output_type": "execute_result"
    }
   ],
   "source": [
    "train.head(3)"
   ]
  },
  {
   "cell_type": "code",
   "execution_count": 72,
   "id": "f190ab19",
   "metadata": {},
   "outputs": [
    {
     "data": {
      "text/html": [
       "<div>\n",
       "<style scoped>\n",
       "    .dataframe tbody tr th:only-of-type {\n",
       "        vertical-align: middle;\n",
       "    }\n",
       "\n",
       "    .dataframe tbody tr th {\n",
       "        vertical-align: top;\n",
       "    }\n",
       "\n",
       "    .dataframe thead th {\n",
       "        text-align: right;\n",
       "    }\n",
       "</style>\n",
       "<table border=\"1\" class=\"dataframe\">\n",
       "  <thead>\n",
       "    <tr style=\"text-align: right;\">\n",
       "      <th></th>\n",
       "      <th>gender</th>\n",
       "      <th>senior_citizen</th>\n",
       "      <th>partner</th>\n",
       "      <th>dependents</th>\n",
       "      <th>tenure</th>\n",
       "      <th>phone_service</th>\n",
       "      <th>multiple_lines</th>\n",
       "      <th>online_security</th>\n",
       "      <th>online_backup</th>\n",
       "      <th>device_protection</th>\n",
       "      <th>...</th>\n",
       "      <th>paperless_billing</th>\n",
       "      <th>monthly_charges</th>\n",
       "      <th>total_charges</th>\n",
       "      <th>churn</th>\n",
       "      <th>contract_type</th>\n",
       "      <th>internet_service_type</th>\n",
       "      <th>payment_type</th>\n",
       "      <th>tenure_scaled</th>\n",
       "      <th>monthly_charges_scaled</th>\n",
       "      <th>total_charges_scaled</th>\n",
       "    </tr>\n",
       "  </thead>\n",
       "  <tbody>\n",
       "    <tr>\n",
       "      <th>143</th>\n",
       "      <td>Male</td>\n",
       "      <td>No</td>\n",
       "      <td>No</td>\n",
       "      <td>No</td>\n",
       "      <td>1</td>\n",
       "      <td>Yes</td>\n",
       "      <td>No</td>\n",
       "      <td>No</td>\n",
       "      <td>No</td>\n",
       "      <td>No</td>\n",
       "      <td>...</td>\n",
       "      <td>Yes</td>\n",
       "      <td>45.65</td>\n",
       "      <td>45.65</td>\n",
       "      <td>Yes</td>\n",
       "      <td>Month-to-month</td>\n",
       "      <td>DSL</td>\n",
       "      <td>Electronic check</td>\n",
       "      <td>-5.199338</td>\n",
       "      <td>-0.540348</td>\n",
       "      <td>-1.733798</td>\n",
       "    </tr>\n",
       "    <tr>\n",
       "      <th>5952</th>\n",
       "      <td>Female</td>\n",
       "      <td>No</td>\n",
       "      <td>Yes</td>\n",
       "      <td>Yes</td>\n",
       "      <td>6</td>\n",
       "      <td>Yes</td>\n",
       "      <td>No</td>\n",
       "      <td>No internet service</td>\n",
       "      <td>No internet service</td>\n",
       "      <td>No internet service</td>\n",
       "      <td>...</td>\n",
       "      <td>No</td>\n",
       "      <td>19.70</td>\n",
       "      <td>113.50</td>\n",
       "      <td>No</td>\n",
       "      <td>Month-to-month</td>\n",
       "      <td>None</td>\n",
       "      <td>Mailed check</td>\n",
       "      <td>-0.846279</td>\n",
       "      <td>-1.649237</td>\n",
       "      <td>-1.183204</td>\n",
       "    </tr>\n",
       "    <tr>\n",
       "      <th>3927</th>\n",
       "      <td>Female</td>\n",
       "      <td>No</td>\n",
       "      <td>No</td>\n",
       "      <td>No</td>\n",
       "      <td>10</td>\n",
       "      <td>Yes</td>\n",
       "      <td>No</td>\n",
       "      <td>No</td>\n",
       "      <td>Yes</td>\n",
       "      <td>No</td>\n",
       "      <td>...</td>\n",
       "      <td>No</td>\n",
       "      <td>51.20</td>\n",
       "      <td>498.25</td>\n",
       "      <td>No</td>\n",
       "      <td>Month-to-month</td>\n",
       "      <td>DSL</td>\n",
       "      <td>Electronic check</td>\n",
       "      <td>-0.622621</td>\n",
       "      <td>-0.406987</td>\n",
       "      <td>-0.581350</td>\n",
       "    </tr>\n",
       "  </tbody>\n",
       "</table>\n",
       "<p>3 rows × 23 columns</p>\n",
       "</div>"
      ],
      "text/plain": [
       "      gender senior_citizen partner dependents  tenure phone_service  \\\n",
       "143     Male             No      No         No       1           Yes   \n",
       "5952  Female             No     Yes        Yes       6           Yes   \n",
       "3927  Female             No      No         No      10           Yes   \n",
       "\n",
       "     multiple_lines      online_security        online_backup  \\\n",
       "143              No                   No                   No   \n",
       "5952             No  No internet service  No internet service   \n",
       "3927             No                   No                  Yes   \n",
       "\n",
       "        device_protection  ... paperless_billing monthly_charges  \\\n",
       "143                    No  ...               Yes           45.65   \n",
       "5952  No internet service  ...                No           19.70   \n",
       "3927                   No  ...                No           51.20   \n",
       "\n",
       "     total_charges churn   contract_type  internet_service_type  \\\n",
       "143          45.65   Yes  Month-to-month                    DSL   \n",
       "5952        113.50    No  Month-to-month                   None   \n",
       "3927        498.25    No  Month-to-month                    DSL   \n",
       "\n",
       "          payment_type tenure_scaled monthly_charges_scaled  \\\n",
       "143   Electronic check     -5.199338              -0.540348   \n",
       "5952      Mailed check     -0.846279              -1.649237   \n",
       "3927  Electronic check     -0.622621              -0.406987   \n",
       "\n",
       "     total_charges_scaled  \n",
       "143             -1.733798  \n",
       "5952            -1.183204  \n",
       "3927            -0.581350  \n",
       "\n",
       "[3 rows x 23 columns]"
      ]
     },
     "execution_count": 72,
     "metadata": {},
     "output_type": "execute_result"
    }
   ],
   "source": [
    "validate.head(3)"
   ]
  },
  {
   "cell_type": "code",
   "execution_count": 73,
   "id": "a1c851e2",
   "metadata": {
    "scrolled": true
   },
   "outputs": [
    {
     "data": {
      "text/html": [
       "<div>\n",
       "<style scoped>\n",
       "    .dataframe tbody tr th:only-of-type {\n",
       "        vertical-align: middle;\n",
       "    }\n",
       "\n",
       "    .dataframe tbody tr th {\n",
       "        vertical-align: top;\n",
       "    }\n",
       "\n",
       "    .dataframe thead th {\n",
       "        text-align: right;\n",
       "    }\n",
       "</style>\n",
       "<table border=\"1\" class=\"dataframe\">\n",
       "  <thead>\n",
       "    <tr style=\"text-align: right;\">\n",
       "      <th></th>\n",
       "      <th>gender</th>\n",
       "      <th>senior_citizen</th>\n",
       "      <th>partner</th>\n",
       "      <th>dependents</th>\n",
       "      <th>tenure</th>\n",
       "      <th>phone_service</th>\n",
       "      <th>multiple_lines</th>\n",
       "      <th>online_security</th>\n",
       "      <th>online_backup</th>\n",
       "      <th>device_protection</th>\n",
       "      <th>...</th>\n",
       "      <th>paperless_billing</th>\n",
       "      <th>monthly_charges</th>\n",
       "      <th>total_charges</th>\n",
       "      <th>churn</th>\n",
       "      <th>contract_type</th>\n",
       "      <th>internet_service_type</th>\n",
       "      <th>payment_type</th>\n",
       "      <th>tenure_scaled</th>\n",
       "      <th>monthly_charges_scaled</th>\n",
       "      <th>total_charges_scaled</th>\n",
       "    </tr>\n",
       "  </thead>\n",
       "  <tbody>\n",
       "    <tr>\n",
       "      <th>6830</th>\n",
       "      <td>Female</td>\n",
       "      <td>No</td>\n",
       "      <td>No</td>\n",
       "      <td>No</td>\n",
       "      <td>63</td>\n",
       "      <td>Yes</td>\n",
       "      <td>No</td>\n",
       "      <td>No internet service</td>\n",
       "      <td>No internet service</td>\n",
       "      <td>No internet service</td>\n",
       "      <td>...</td>\n",
       "      <td>Yes</td>\n",
       "      <td>20.60</td>\n",
       "      <td>1298.70</td>\n",
       "      <td>No</td>\n",
       "      <td>Two year</td>\n",
       "      <td>None</td>\n",
       "      <td>Mailed check</td>\n",
       "      <td>0.928105</td>\n",
       "      <td>-1.050924</td>\n",
       "      <td>-0.050083</td>\n",
       "    </tr>\n",
       "    <tr>\n",
       "      <th>364</th>\n",
       "      <td>Male</td>\n",
       "      <td>No</td>\n",
       "      <td>Yes</td>\n",
       "      <td>No</td>\n",
       "      <td>56</td>\n",
       "      <td>Yes</td>\n",
       "      <td>Yes</td>\n",
       "      <td>Yes</td>\n",
       "      <td>No</td>\n",
       "      <td>No</td>\n",
       "      <td>...</td>\n",
       "      <td>Yes</td>\n",
       "      <td>100.55</td>\n",
       "      <td>5514.95</td>\n",
       "      <td>No</td>\n",
       "      <td>One year</td>\n",
       "      <td>Fiber optic</td>\n",
       "      <td>Electronic check</td>\n",
       "      <td>0.681594</td>\n",
       "      <td>1.189522</td>\n",
       "      <td>1.112737</td>\n",
       "    </tr>\n",
       "    <tr>\n",
       "      <th>2062</th>\n",
       "      <td>Male</td>\n",
       "      <td>No</td>\n",
       "      <td>No</td>\n",
       "      <td>No</td>\n",
       "      <td>1</td>\n",
       "      <td>Yes</td>\n",
       "      <td>Yes</td>\n",
       "      <td>No</td>\n",
       "      <td>No</td>\n",
       "      <td>No</td>\n",
       "      <td>...</td>\n",
       "      <td>Yes</td>\n",
       "      <td>75.30</td>\n",
       "      <td>75.30</td>\n",
       "      <td>Yes</td>\n",
       "      <td>Month-to-month</td>\n",
       "      <td>Fiber optic</td>\n",
       "      <td>Electronic check</td>\n",
       "      <td>-5.199338</td>\n",
       "      <td>0.154930</td>\n",
       "      <td>-1.380310</td>\n",
       "    </tr>\n",
       "  </tbody>\n",
       "</table>\n",
       "<p>3 rows × 23 columns</p>\n",
       "</div>"
      ],
      "text/plain": [
       "      gender senior_citizen partner dependents  tenure phone_service  \\\n",
       "6830  Female             No      No         No      63           Yes   \n",
       "364     Male             No     Yes         No      56           Yes   \n",
       "2062    Male             No      No         No       1           Yes   \n",
       "\n",
       "     multiple_lines      online_security        online_backup  \\\n",
       "6830             No  No internet service  No internet service   \n",
       "364             Yes                  Yes                   No   \n",
       "2062            Yes                   No                   No   \n",
       "\n",
       "        device_protection  ... paperless_billing monthly_charges  \\\n",
       "6830  No internet service  ...               Yes           20.60   \n",
       "364                    No  ...               Yes          100.55   \n",
       "2062                   No  ...               Yes           75.30   \n",
       "\n",
       "     total_charges churn   contract_type  internet_service_type  \\\n",
       "6830       1298.70    No        Two year                   None   \n",
       "364        5514.95    No        One year            Fiber optic   \n",
       "2062         75.30   Yes  Month-to-month            Fiber optic   \n",
       "\n",
       "          payment_type tenure_scaled monthly_charges_scaled  \\\n",
       "6830      Mailed check      0.928105              -1.050924   \n",
       "364   Electronic check      0.681594               1.189522   \n",
       "2062  Electronic check     -5.199338               0.154930   \n",
       "\n",
       "     total_charges_scaled  \n",
       "6830            -0.050083  \n",
       "364              1.112737  \n",
       "2062            -1.380310  \n",
       "\n",
       "[3 rows x 23 columns]"
      ]
     },
     "execution_count": 73,
     "metadata": {},
     "output_type": "execute_result"
    }
   ],
   "source": [
    "test.head(3)"
   ]
  },
  {
   "cell_type": "markdown",
   "id": "434948be",
   "metadata": {},
   "source": [
    "2. Apply the .inverse_transform method to your scaled data. Is the resulting dataset the exact same as the original data?"
   ]
  },
  {
   "cell_type": "code",
   "execution_count": 76,
   "id": "d1a490c4",
   "metadata": {
    "scrolled": true
   },
   "outputs": [
    {
     "data": {
      "text/plain": [
       "array([[0.78873239, 0.20945274, 0.24147381],\n",
       "       [0.4084507 , 0.07064677, 0.08128941],\n",
       "       [0.46478873, 0.31791045, 0.20729983],\n",
       "       [0.26760563, 0.65771144, 0.1992107 ],\n",
       "       [0.29577465, 0.8199005 , 0.27661134],\n",
       "       [0.53521127, 0.72089552, 0.39169393],\n",
       "       [0.01408451, 0.25970149, 0.0072006 ],\n",
       "       [0.32394366, 0.70945274, 0.25020915],\n",
       "       [0.        , 0.55870647, 0.00641015],\n",
       "       [0.43661972, 0.36218905, 0.20900767]])"
      ]
     },
     "execution_count": 76,
     "metadata": {},
     "output_type": "execute_result"
    }
   ],
   "source": [
    "# Min Max Scaler\n",
    "scaler = sklearn.preprocessing.MinMaxScaler()\n",
    "scaler.fit(train[['tenure', 'monthly_charges', 'total_charges']])\n",
    "\n",
    "train_scaled = scaler.transform(train[['tenure', 'monthly_charges', 'total_charges']])\n",
    "validate_scaled = scaler.transform(validate[['tenure', 'monthly_charges', 'total_charges']])\n",
    "test_scaled = scaler.transform(test[['tenure', 'monthly_charges', 'total_charges']])\n",
    "train_scaled[:10]"
   ]
  },
  {
   "cell_type": "code",
   "execution_count": 81,
   "id": "7e0bcae6",
   "metadata": {
    "scrolled": true
   },
   "outputs": [
    {
     "data": {
      "text/plain": [
       "array([[  57.  ,   39.3 , 2111.45],\n",
       "       [  30.  ,   25.35,  723.3 ],\n",
       "       [  34.  ,   50.2 , 1815.3 ],\n",
       "       ...,\n",
       "       [  13.  ,  104.15, 1299.1 ],\n",
       "       [  10.  ,   19.8 ,  196.75],\n",
       "       [  13.  ,   66.4 ,  831.75]])"
      ]
     },
     "execution_count": 81,
     "metadata": {},
     "output_type": "execute_result"
    }
   ],
   "source": [
    "scaler.inverse_transform(train_scaled)"
   ]
  },
  {
   "cell_type": "code",
   "execution_count": 78,
   "id": "b2f2b572",
   "metadata": {
    "scrolled": false
   },
   "outputs": [
    {
     "data": {
      "text/html": [
       "<div>\n",
       "<style scoped>\n",
       "    .dataframe tbody tr th:only-of-type {\n",
       "        vertical-align: middle;\n",
       "    }\n",
       "\n",
       "    .dataframe tbody tr th {\n",
       "        vertical-align: top;\n",
       "    }\n",
       "\n",
       "    .dataframe thead th {\n",
       "        text-align: right;\n",
       "    }\n",
       "</style>\n",
       "<table border=\"1\" class=\"dataframe\">\n",
       "  <thead>\n",
       "    <tr style=\"text-align: right;\">\n",
       "      <th></th>\n",
       "      <th>tenure</th>\n",
       "      <th>monthly_charges</th>\n",
       "      <th>total_charges</th>\n",
       "    </tr>\n",
       "  </thead>\n",
       "  <tbody>\n",
       "    <tr>\n",
       "      <th>271</th>\n",
       "      <td>57</td>\n",
       "      <td>39.30</td>\n",
       "      <td>2111.45</td>\n",
       "    </tr>\n",
       "    <tr>\n",
       "      <th>6380</th>\n",
       "      <td>30</td>\n",
       "      <td>25.35</td>\n",
       "      <td>723.30</td>\n",
       "    </tr>\n",
       "    <tr>\n",
       "      <th>5560</th>\n",
       "      <td>34</td>\n",
       "      <td>50.20</td>\n",
       "      <td>1815.30</td>\n",
       "    </tr>\n",
       "    <tr>\n",
       "      <th>1955</th>\n",
       "      <td>20</td>\n",
       "      <td>84.35</td>\n",
       "      <td>1745.20</td>\n",
       "    </tr>\n",
       "    <tr>\n",
       "      <th>1766</th>\n",
       "      <td>22</td>\n",
       "      <td>100.65</td>\n",
       "      <td>2415.95</td>\n",
       "    </tr>\n",
       "    <tr>\n",
       "      <th>...</th>\n",
       "      <td>...</td>\n",
       "      <td>...</td>\n",
       "      <td>...</td>\n",
       "    </tr>\n",
       "    <tr>\n",
       "      <th>2645</th>\n",
       "      <td>50</td>\n",
       "      <td>90.10</td>\n",
       "      <td>4549.45</td>\n",
       "    </tr>\n",
       "    <tr>\n",
       "      <th>4771</th>\n",
       "      <td>64</td>\n",
       "      <td>66.15</td>\n",
       "      <td>4392.50</td>\n",
       "    </tr>\n",
       "    <tr>\n",
       "      <th>2624</th>\n",
       "      <td>13</td>\n",
       "      <td>104.15</td>\n",
       "      <td>1299.10</td>\n",
       "    </tr>\n",
       "    <tr>\n",
       "      <th>5718</th>\n",
       "      <td>10</td>\n",
       "      <td>19.80</td>\n",
       "      <td>196.75</td>\n",
       "    </tr>\n",
       "    <tr>\n",
       "      <th>3785</th>\n",
       "      <td>13</td>\n",
       "      <td>66.40</td>\n",
       "      <td>831.75</td>\n",
       "    </tr>\n",
       "  </tbody>\n",
       "</table>\n",
       "<p>3955 rows × 3 columns</p>\n",
       "</div>"
      ],
      "text/plain": [
       "      tenure  monthly_charges  total_charges\n",
       "271       57            39.30        2111.45\n",
       "6380      30            25.35         723.30\n",
       "5560      34            50.20        1815.30\n",
       "1955      20            84.35        1745.20\n",
       "1766      22           100.65        2415.95\n",
       "...      ...              ...            ...\n",
       "2645      50            90.10        4549.45\n",
       "4771      64            66.15        4392.50\n",
       "2624      13           104.15        1299.10\n",
       "5718      10            19.80         196.75\n",
       "3785      13            66.40         831.75\n",
       "\n",
       "[3955 rows x 3 columns]"
      ]
     },
     "execution_count": 78,
     "metadata": {},
     "output_type": "execute_result"
    }
   ],
   "source": [
    "train[['tenure', 'monthly_charges', 'total_charges']]"
   ]
  },
  {
   "cell_type": "code",
   "execution_count": 82,
   "id": "4529e63e",
   "metadata": {},
   "outputs": [],
   "source": [
    "# Standard Scaler\n",
    "scaler = sklearn.preprocessing.StandardScaler()\n",
    "scaler.fit(train[['tenure', 'monthly_charges', 'total_charges']])\n",
    "\n",
    "train_scaled = scaler.transform(train[['tenure', 'monthly_charges', 'total_charges']])\n",
    "validate_scaled = scaler.transform(validate[['tenure', 'monthly_charges', 'total_charges']])\n",
    "test_scaled = scaler.transform(test[['tenure', 'monthly_charges', 'total_charges']])"
   ]
  },
  {
   "cell_type": "code",
   "execution_count": 83,
   "id": "8dfe1991",
   "metadata": {
    "scrolled": true
   },
   "outputs": [
    {
     "data": {
      "text/plain": [
       "array([[  57.  ,   39.3 , 2111.45],\n",
       "       [  30.  ,   25.35,  723.3 ],\n",
       "       [  34.  ,   50.2 , 1815.3 ],\n",
       "       ...,\n",
       "       [  13.  ,  104.15, 1299.1 ],\n",
       "       [  10.  ,   19.8 ,  196.75],\n",
       "       [  13.  ,   66.4 ,  831.75]])"
      ]
     },
     "execution_count": 83,
     "metadata": {},
     "output_type": "execute_result"
    }
   ],
   "source": [
    "scaler.inverse_transform(train_scaled)"
   ]
  },
  {
   "cell_type": "code",
   "execution_count": 84,
   "id": "b98ceb2f",
   "metadata": {
    "scrolled": false
   },
   "outputs": [
    {
     "data": {
      "text/html": [
       "<div>\n",
       "<style scoped>\n",
       "    .dataframe tbody tr th:only-of-type {\n",
       "        vertical-align: middle;\n",
       "    }\n",
       "\n",
       "    .dataframe tbody tr th {\n",
       "        vertical-align: top;\n",
       "    }\n",
       "\n",
       "    .dataframe thead th {\n",
       "        text-align: right;\n",
       "    }\n",
       "</style>\n",
       "<table border=\"1\" class=\"dataframe\">\n",
       "  <thead>\n",
       "    <tr style=\"text-align: right;\">\n",
       "      <th></th>\n",
       "      <th>tenure</th>\n",
       "      <th>monthly_charges</th>\n",
       "      <th>total_charges</th>\n",
       "    </tr>\n",
       "  </thead>\n",
       "  <tbody>\n",
       "    <tr>\n",
       "      <th>271</th>\n",
       "      <td>57</td>\n",
       "      <td>39.30</td>\n",
       "      <td>2111.45</td>\n",
       "    </tr>\n",
       "    <tr>\n",
       "      <th>6380</th>\n",
       "      <td>30</td>\n",
       "      <td>25.35</td>\n",
       "      <td>723.30</td>\n",
       "    </tr>\n",
       "    <tr>\n",
       "      <th>5560</th>\n",
       "      <td>34</td>\n",
       "      <td>50.20</td>\n",
       "      <td>1815.30</td>\n",
       "    </tr>\n",
       "    <tr>\n",
       "      <th>1955</th>\n",
       "      <td>20</td>\n",
       "      <td>84.35</td>\n",
       "      <td>1745.20</td>\n",
       "    </tr>\n",
       "    <tr>\n",
       "      <th>1766</th>\n",
       "      <td>22</td>\n",
       "      <td>100.65</td>\n",
       "      <td>2415.95</td>\n",
       "    </tr>\n",
       "    <tr>\n",
       "      <th>...</th>\n",
       "      <td>...</td>\n",
       "      <td>...</td>\n",
       "      <td>...</td>\n",
       "    </tr>\n",
       "    <tr>\n",
       "      <th>2645</th>\n",
       "      <td>50</td>\n",
       "      <td>90.10</td>\n",
       "      <td>4549.45</td>\n",
       "    </tr>\n",
       "    <tr>\n",
       "      <th>4771</th>\n",
       "      <td>64</td>\n",
       "      <td>66.15</td>\n",
       "      <td>4392.50</td>\n",
       "    </tr>\n",
       "    <tr>\n",
       "      <th>2624</th>\n",
       "      <td>13</td>\n",
       "      <td>104.15</td>\n",
       "      <td>1299.10</td>\n",
       "    </tr>\n",
       "    <tr>\n",
       "      <th>5718</th>\n",
       "      <td>10</td>\n",
       "      <td>19.80</td>\n",
       "      <td>196.75</td>\n",
       "    </tr>\n",
       "    <tr>\n",
       "      <th>3785</th>\n",
       "      <td>13</td>\n",
       "      <td>66.40</td>\n",
       "      <td>831.75</td>\n",
       "    </tr>\n",
       "  </tbody>\n",
       "</table>\n",
       "<p>3955 rows × 3 columns</p>\n",
       "</div>"
      ],
      "text/plain": [
       "      tenure  monthly_charges  total_charges\n",
       "271       57            39.30        2111.45\n",
       "6380      30            25.35         723.30\n",
       "5560      34            50.20        1815.30\n",
       "1955      20            84.35        1745.20\n",
       "1766      22           100.65        2415.95\n",
       "...      ...              ...            ...\n",
       "2645      50            90.10        4549.45\n",
       "4771      64            66.15        4392.50\n",
       "2624      13           104.15        1299.10\n",
       "5718      10            19.80         196.75\n",
       "3785      13            66.40         831.75\n",
       "\n",
       "[3955 rows x 3 columns]"
      ]
     },
     "execution_count": 84,
     "metadata": {},
     "output_type": "execute_result"
    }
   ],
   "source": [
    "train[['tenure', 'monthly_charges', 'total_charges']]"
   ]
  },
  {
   "cell_type": "code",
   "execution_count": 85,
   "id": "b596e77b",
   "metadata": {},
   "outputs": [],
   "source": [
    "# Robust Scaler\n",
    "scaler = sklearn.preprocessing.RobustScaler()\n",
    "scaler.fit(train[['tenure', 'monthly_charges', 'total_charges']])\n",
    "\n",
    "train_scaled = scaler.transform(train[['tenure', 'monthly_charges', 'total_charges']])\n",
    "validate_scaled = scaler.transform(validate[['tenure', 'monthly_charges', 'total_charges']])\n",
    "test_scaled = scaler.transform(test[['tenure', 'monthly_charges', 'total_charges']])"
   ]
  },
  {
   "cell_type": "code",
   "execution_count": 86,
   "id": "962cf3c3",
   "metadata": {
    "scrolled": true
   },
   "outputs": [
    {
     "data": {
      "text/plain": [
       "array([[  57.  ,   39.3 , 2111.45],\n",
       "       [  30.  ,   25.35,  723.3 ],\n",
       "       [  34.  ,   50.2 , 1815.3 ],\n",
       "       ...,\n",
       "       [  13.  ,  104.15, 1299.1 ],\n",
       "       [  10.  ,   19.8 ,  196.75],\n",
       "       [  13.  ,   66.4 ,  831.75]])"
      ]
     },
     "execution_count": 86,
     "metadata": {},
     "output_type": "execute_result"
    }
   ],
   "source": [
    "scaler.inverse_transform(train_scaled)"
   ]
  },
  {
   "cell_type": "code",
   "execution_count": 87,
   "id": "8a82df58",
   "metadata": {
    "scrolled": false
   },
   "outputs": [
    {
     "data": {
      "text/html": [
       "<div>\n",
       "<style scoped>\n",
       "    .dataframe tbody tr th:only-of-type {\n",
       "        vertical-align: middle;\n",
       "    }\n",
       "\n",
       "    .dataframe tbody tr th {\n",
       "        vertical-align: top;\n",
       "    }\n",
       "\n",
       "    .dataframe thead th {\n",
       "        text-align: right;\n",
       "    }\n",
       "</style>\n",
       "<table border=\"1\" class=\"dataframe\">\n",
       "  <thead>\n",
       "    <tr style=\"text-align: right;\">\n",
       "      <th></th>\n",
       "      <th>tenure</th>\n",
       "      <th>monthly_charges</th>\n",
       "      <th>total_charges</th>\n",
       "    </tr>\n",
       "  </thead>\n",
       "  <tbody>\n",
       "    <tr>\n",
       "      <th>271</th>\n",
       "      <td>57</td>\n",
       "      <td>39.30</td>\n",
       "      <td>2111.45</td>\n",
       "    </tr>\n",
       "    <tr>\n",
       "      <th>6380</th>\n",
       "      <td>30</td>\n",
       "      <td>25.35</td>\n",
       "      <td>723.30</td>\n",
       "    </tr>\n",
       "    <tr>\n",
       "      <th>5560</th>\n",
       "      <td>34</td>\n",
       "      <td>50.20</td>\n",
       "      <td>1815.30</td>\n",
       "    </tr>\n",
       "    <tr>\n",
       "      <th>1955</th>\n",
       "      <td>20</td>\n",
       "      <td>84.35</td>\n",
       "      <td>1745.20</td>\n",
       "    </tr>\n",
       "    <tr>\n",
       "      <th>1766</th>\n",
       "      <td>22</td>\n",
       "      <td>100.65</td>\n",
       "      <td>2415.95</td>\n",
       "    </tr>\n",
       "    <tr>\n",
       "      <th>...</th>\n",
       "      <td>...</td>\n",
       "      <td>...</td>\n",
       "      <td>...</td>\n",
       "    </tr>\n",
       "    <tr>\n",
       "      <th>2645</th>\n",
       "      <td>50</td>\n",
       "      <td>90.10</td>\n",
       "      <td>4549.45</td>\n",
       "    </tr>\n",
       "    <tr>\n",
       "      <th>4771</th>\n",
       "      <td>64</td>\n",
       "      <td>66.15</td>\n",
       "      <td>4392.50</td>\n",
       "    </tr>\n",
       "    <tr>\n",
       "      <th>2624</th>\n",
       "      <td>13</td>\n",
       "      <td>104.15</td>\n",
       "      <td>1299.10</td>\n",
       "    </tr>\n",
       "    <tr>\n",
       "      <th>5718</th>\n",
       "      <td>10</td>\n",
       "      <td>19.80</td>\n",
       "      <td>196.75</td>\n",
       "    </tr>\n",
       "    <tr>\n",
       "      <th>3785</th>\n",
       "      <td>13</td>\n",
       "      <td>66.40</td>\n",
       "      <td>831.75</td>\n",
       "    </tr>\n",
       "  </tbody>\n",
       "</table>\n",
       "<p>3955 rows × 3 columns</p>\n",
       "</div>"
      ],
      "text/plain": [
       "      tenure  monthly_charges  total_charges\n",
       "271       57            39.30        2111.45\n",
       "6380      30            25.35         723.30\n",
       "5560      34            50.20        1815.30\n",
       "1955      20            84.35        1745.20\n",
       "1766      22           100.65        2415.95\n",
       "...      ...              ...            ...\n",
       "2645      50            90.10        4549.45\n",
       "4771      64            66.15        4392.50\n",
       "2624      13           104.15        1299.10\n",
       "5718      10            19.80         196.75\n",
       "3785      13            66.40         831.75\n",
       "\n",
       "[3955 rows x 3 columns]"
      ]
     },
     "execution_count": 87,
     "metadata": {},
     "output_type": "execute_result"
    }
   ],
   "source": [
    "train[['tenure', 'monthly_charges', 'total_charges']]"
   ]
  },
  {
   "cell_type": "code",
   "execution_count": 88,
   "id": "ed99863b",
   "metadata": {},
   "outputs": [],
   "source": [
    "# Non-Linear Scaler\n",
    "scaler = sklearn.preprocessing.QuantileTransformer(output_distribution = 'normal')\n",
    "scaler.fit(train[['tenure', 'monthly_charges', 'total_charges']])\n",
    "\n",
    "train_scaled = scaler.transform(train[['tenure', 'monthly_charges', 'total_charges']])\n",
    "validate_scaled = scaler.transform(validate[['tenure', 'monthly_charges', 'total_charges']])\n",
    "test_scaled = scaler.transform(test[['tenure', 'monthly_charges', 'total_charges']])"
   ]
  },
  {
   "cell_type": "code",
   "execution_count": 89,
   "id": "4580b8f8",
   "metadata": {
    "scrolled": true
   },
   "outputs": [
    {
     "data": {
      "text/plain": [
       "array([[  57.  ,   39.3 , 2111.45],\n",
       "       [  30.  ,   25.35,  723.3 ],\n",
       "       [  34.  ,   50.2 , 1815.3 ],\n",
       "       ...,\n",
       "       [  13.  ,  104.15, 1299.1 ],\n",
       "       [  10.  ,   19.8 ,  196.75],\n",
       "       [  13.  ,   66.4 ,  831.75]])"
      ]
     },
     "execution_count": 89,
     "metadata": {},
     "output_type": "execute_result"
    }
   ],
   "source": [
    "scaler.inverse_transform(train_scaled)"
   ]
  },
  {
   "cell_type": "code",
   "execution_count": 90,
   "id": "026a4007",
   "metadata": {
    "scrolled": false
   },
   "outputs": [
    {
     "data": {
      "text/html": [
       "<div>\n",
       "<style scoped>\n",
       "    .dataframe tbody tr th:only-of-type {\n",
       "        vertical-align: middle;\n",
       "    }\n",
       "\n",
       "    .dataframe tbody tr th {\n",
       "        vertical-align: top;\n",
       "    }\n",
       "\n",
       "    .dataframe thead th {\n",
       "        text-align: right;\n",
       "    }\n",
       "</style>\n",
       "<table border=\"1\" class=\"dataframe\">\n",
       "  <thead>\n",
       "    <tr style=\"text-align: right;\">\n",
       "      <th></th>\n",
       "      <th>tenure</th>\n",
       "      <th>monthly_charges</th>\n",
       "      <th>total_charges</th>\n",
       "    </tr>\n",
       "  </thead>\n",
       "  <tbody>\n",
       "    <tr>\n",
       "      <th>271</th>\n",
       "      <td>57</td>\n",
       "      <td>39.30</td>\n",
       "      <td>2111.45</td>\n",
       "    </tr>\n",
       "    <tr>\n",
       "      <th>6380</th>\n",
       "      <td>30</td>\n",
       "      <td>25.35</td>\n",
       "      <td>723.30</td>\n",
       "    </tr>\n",
       "    <tr>\n",
       "      <th>5560</th>\n",
       "      <td>34</td>\n",
       "      <td>50.20</td>\n",
       "      <td>1815.30</td>\n",
       "    </tr>\n",
       "    <tr>\n",
       "      <th>1955</th>\n",
       "      <td>20</td>\n",
       "      <td>84.35</td>\n",
       "      <td>1745.20</td>\n",
       "    </tr>\n",
       "    <tr>\n",
       "      <th>1766</th>\n",
       "      <td>22</td>\n",
       "      <td>100.65</td>\n",
       "      <td>2415.95</td>\n",
       "    </tr>\n",
       "    <tr>\n",
       "      <th>...</th>\n",
       "      <td>...</td>\n",
       "      <td>...</td>\n",
       "      <td>...</td>\n",
       "    </tr>\n",
       "    <tr>\n",
       "      <th>2645</th>\n",
       "      <td>50</td>\n",
       "      <td>90.10</td>\n",
       "      <td>4549.45</td>\n",
       "    </tr>\n",
       "    <tr>\n",
       "      <th>4771</th>\n",
       "      <td>64</td>\n",
       "      <td>66.15</td>\n",
       "      <td>4392.50</td>\n",
       "    </tr>\n",
       "    <tr>\n",
       "      <th>2624</th>\n",
       "      <td>13</td>\n",
       "      <td>104.15</td>\n",
       "      <td>1299.10</td>\n",
       "    </tr>\n",
       "    <tr>\n",
       "      <th>5718</th>\n",
       "      <td>10</td>\n",
       "      <td>19.80</td>\n",
       "      <td>196.75</td>\n",
       "    </tr>\n",
       "    <tr>\n",
       "      <th>3785</th>\n",
       "      <td>13</td>\n",
       "      <td>66.40</td>\n",
       "      <td>831.75</td>\n",
       "    </tr>\n",
       "  </tbody>\n",
       "</table>\n",
       "<p>3955 rows × 3 columns</p>\n",
       "</div>"
      ],
      "text/plain": [
       "      tenure  monthly_charges  total_charges\n",
       "271       57            39.30        2111.45\n",
       "6380      30            25.35         723.30\n",
       "5560      34            50.20        1815.30\n",
       "1955      20            84.35        1745.20\n",
       "1766      22           100.65        2415.95\n",
       "...      ...              ...            ...\n",
       "2645      50            90.10        4549.45\n",
       "4771      64            66.15        4392.50\n",
       "2624      13           104.15        1299.10\n",
       "5718      10            19.80         196.75\n",
       "3785      13            66.40         831.75\n",
       "\n",
       "[3955 rows x 3 columns]"
      ]
     },
     "execution_count": 90,
     "metadata": {},
     "output_type": "execute_result"
    }
   ],
   "source": [
    "train[['tenure', 'monthly_charges', 'total_charges']]"
   ]
  },
  {
   "cell_type": "markdown",
   "id": "15a38380",
   "metadata": {},
   "source": [
    "3. Read the documentation for sklearn's QuantileTransformer. Use normal for the output_distribution and apply this scaler to your data. Visualize the result of your data scaling."
   ]
  },
  {
   "cell_type": "code",
   "execution_count": 91,
   "id": "2d6ff328",
   "metadata": {},
   "outputs": [],
   "source": [
    "# Non-Linear Scaler\n",
    "scaler = sklearn.preprocessing.QuantileTransformer(output_distribution = 'normal')\n",
    "scaler.fit(train[['tenure', 'monthly_charges', 'total_charges']])\n",
    "\n",
    "train_scaled = scaler.transform(train[['tenure', 'monthly_charges', 'total_charges']])\n",
    "validate_scaled = scaler.transform(validate[['tenure', 'monthly_charges', 'total_charges']])\n",
    "test_scaled = scaler.transform(test[['tenure', 'monthly_charges', 'total_charges']])"
   ]
  },
  {
   "cell_type": "code",
   "execution_count": 92,
   "id": "b9621de0",
   "metadata": {
    "scrolled": false
   },
   "outputs": [
    {
     "name": "stderr",
     "output_type": "stream",
     "text": [
      "/Users/davidrodriguez/anaconda3/lib/python3.7/site-packages/pandas/core/frame.py:3678: SettingWithCopyWarning: \n",
      "A value is trying to be set on a copy of a slice from a DataFrame.\n",
      "Try using .loc[row_indexer,col_indexer] = value instead\n",
      "\n",
      "See the caveats in the documentation: https://pandas.pydata.org/pandas-docs/stable/user_guide/indexing.html#returning-a-view-versus-a-copy\n",
      "  self[col] = igetitem(value, i)\n",
      "/Users/davidrodriguez/anaconda3/lib/python3.7/site-packages/pandas/core/frame.py:3678: SettingWithCopyWarning: \n",
      "A value is trying to be set on a copy of a slice from a DataFrame.\n",
      "Try using .loc[row_indexer,col_indexer] = value instead\n",
      "\n",
      "See the caveats in the documentation: https://pandas.pydata.org/pandas-docs/stable/user_guide/indexing.html#returning-a-view-versus-a-copy\n",
      "  self[col] = igetitem(value, i)\n",
      "/Users/davidrodriguez/anaconda3/lib/python3.7/site-packages/pandas/core/frame.py:3678: SettingWithCopyWarning: \n",
      "A value is trying to be set on a copy of a slice from a DataFrame.\n",
      "Try using .loc[row_indexer,col_indexer] = value instead\n",
      "\n",
      "See the caveats in the documentation: https://pandas.pydata.org/pandas-docs/stable/user_guide/indexing.html#returning-a-view-versus-a-copy\n",
      "  self[col] = igetitem(value, i)\n"
     ]
    }
   ],
   "source": [
    "# add scaled values back to split dataframes\n",
    "train[['tenure_scaled', 'monthly_charges_scaled', 'total_charges_scaled']] = scaler.transform(train[['tenure', 'monthly_charges', 'total_charges']])\n",
    "validate[['tenure_scaled', 'monthly_charges_scaled', 'total_charges_scaled']] = scaler.transform(validate[['tenure', 'monthly_charges', 'total_charges']])\n",
    "test[['tenure_scaled', 'monthly_charges_scaled', 'total_charges_scaled']] = scaler.transform(test[['tenure', 'monthly_charges', 'total_charges']])"
   ]
  },
  {
   "cell_type": "code",
   "execution_count": 93,
   "id": "f9f4c42b",
   "metadata": {
    "scrolled": false
   },
   "outputs": [
    {
     "data": {
      "image/png": "[encoded data removed]",
      "text/plain": [
       "<Figure size 936x432 with 6 Axes>"
      ]
     },
     "metadata": {
      "needs_background": "light"
     },
     "output_type": "display_data"
    }
   ],
   "source": [
    "plt.figure(figsize=(13, 6))\n",
    "plt.subplot(321)\n",
    "plt.hist(train.tenure, bins=25, ec='black')\n",
    "plt.title('Original')\n",
    "plt.subplot(322)\n",
    "plt.hist(train.tenure_scaled, bins=25, ec='black')\n",
    "plt.title('Non-Linear Scaled')\n",
    "plt.subplot(323)\n",
    "plt.hist(train.monthly_charges, bins=25, ec='black')\n",
    "plt.subplot(324)\n",
    "plt.hist(train.monthly_charges_scaled, bins=25, ec='black')\n",
    "plt.subplot(325)\n",
    "plt.hist(train.total_charges, bins=25, ec='black')\n",
    "plt.subplot(326)\n",
    "plt.hist(train.total_charges_scaled, bins=25, ec='black');"
   ]
  },
  {
   "cell_type": "code",
   "execution_count": 94,
   "id": "fd2f4df0",
   "metadata": {
    "scrolled": false
   },
   "outputs": [
    {
     "data": {
      "image/png": "[encoded data removed]",
      "text/plain": [
       "<Figure size 432x288 with 3 Axes>"
      ]
     },
     "metadata": {
      "needs_background": "light"
     },
     "output_type": "display_data"
    }
   ],
   "source": [
    "plt.subplot(131)\n",
    "plt.scatter(train.tenure, train.tenure_scaled)\n",
    "plt.xlabel('Tenure (Months)')\n",
    "plt.ylabel('Tenure Scaled')\n",
    "plt.title('Non-Linear Scaler')\n",
    "plt.subplot(132)\n",
    "plt.scatter(train.monthly_charges, train.monthly_charges_scaled)\n",
    "plt.xlabel('Monthly Charges ($)')\n",
    "plt.ylabel('Monthly Charges Scaled')\n",
    "plt.title('Non-Linear Scaler')\n",
    "plt.subplot(133)\n",
    "plt.scatter(train.total_charges, train.total_charges_scaled)\n",
    "plt.xlabel('Total Charges ($)')\n",
    "plt.ylabel('Total Charges Scaled')\n",
    "plt.title('Non-Linear Scaler');"
   ]
  },
  {
   "cell_type": "markdown",
   "id": "2478c02a",
   "metadata": {},
   "source": [
    "4. Use the QuantileTransformer, but omit the output_distribution argument. Visualize your results. What do you notice?"
   ]
  },
  {
   "cell_type": "code",
   "execution_count": 95,
   "id": "f3434ac3",
   "metadata": {},
   "outputs": [],
   "source": [
    "# Non-Linear Scaler\n",
    "scaler = sklearn.preprocessing.QuantileTransformer()\n",
    "scaler.fit(train[['tenure', 'monthly_charges', 'total_charges']])\n",
    "\n",
    "train_scaled = scaler.transform(train[['tenure', 'monthly_charges', 'total_charges']])\n",
    "validate_scaled = scaler.transform(validate[['tenure', 'monthly_charges', 'total_charges']])\n",
    "test_scaled = scaler.transform(test[['tenure', 'monthly_charges', 'total_charges']])"
   ]
  },
  {
   "cell_type": "code",
   "execution_count": 96,
   "id": "1b09df94",
   "metadata": {
    "scrolled": false
   },
   "outputs": [
    {
     "name": "stderr",
     "output_type": "stream",
     "text": [
      "/Users/davidrodriguez/anaconda3/lib/python3.7/site-packages/pandas/core/frame.py:3678: SettingWithCopyWarning: \n",
      "A value is trying to be set on a copy of a slice from a DataFrame.\n",
      "Try using .loc[row_indexer,col_indexer] = value instead\n",
      "\n",
      "See the caveats in the documentation: https://pandas.pydata.org/pandas-docs/stable/user_guide/indexing.html#returning-a-view-versus-a-copy\n",
      "  self[col] = igetitem(value, i)\n",
      "/Users/davidrodriguez/anaconda3/lib/python3.7/site-packages/pandas/core/frame.py:3678: SettingWithCopyWarning: \n",
      "A value is trying to be set on a copy of a slice from a DataFrame.\n",
      "Try using .loc[row_indexer,col_indexer] = value instead\n",
      "\n",
      "See the caveats in the documentation: https://pandas.pydata.org/pandas-docs/stable/user_guide/indexing.html#returning-a-view-versus-a-copy\n",
      "  self[col] = igetitem(value, i)\n",
      "/Users/davidrodriguez/anaconda3/lib/python3.7/site-packages/pandas/core/frame.py:3678: SettingWithCopyWarning: \n",
      "A value is trying to be set on a copy of a slice from a DataFrame.\n",
      "Try using .loc[row_indexer,col_indexer] = value instead\n",
      "\n",
      "See the caveats in the documentation: https://pandas.pydata.org/pandas-docs/stable/user_guide/indexing.html#returning-a-view-versus-a-copy\n",
      "  self[col] = igetitem(value, i)\n"
     ]
    }
   ],
   "source": [
    "# add scaled values back to split dataframes\n",
    "train[['tenure_scaled', 'monthly_charges_scaled', 'total_charges_scaled']] = scaler.transform(train[['tenure', 'monthly_charges', 'total_charges']])\n",
    "validate[['tenure_scaled', 'monthly_charges_scaled', 'total_charges_scaled']] = scaler.transform(validate[['tenure', 'monthly_charges', 'total_charges']])\n",
    "test[['tenure_scaled', 'monthly_charges_scaled', 'total_charges_scaled']] = scaler.transform(test[['tenure', 'monthly_charges', 'total_charges']])"
   ]
  },
  {
   "cell_type": "code",
   "execution_count": 97,
   "id": "5505a23e",
   "metadata": {
    "scrolled": false
   },
   "outputs": [
    {
     "data": {
      "image/png": "[encoded data removed]",
      "text/plain": [
       "<Figure size 936x432 with 6 Axes>"
      ]
     },
     "metadata": {
      "needs_background": "light"
     },
     "output_type": "display_data"
    }
   ],
   "source": [
    "plt.figure(figsize=(13, 6))\n",
    "plt.subplot(321)\n",
    "plt.hist(train.tenure, bins=25, ec='black')\n",
    "plt.title('Original')\n",
    "plt.subplot(322)\n",
    "plt.hist(train.tenure_scaled, bins=25, ec='black')\n",
    "plt.title('Non-Linear Scaled')\n",
    "plt.subplot(323)\n",
    "plt.hist(train.monthly_charges, bins=25, ec='black')\n",
    "plt.subplot(324)\n",
    "plt.hist(train.monthly_charges_scaled, bins=25, ec='black')\n",
    "plt.subplot(325)\n",
    "plt.hist(train.total_charges, bins=25, ec='black')\n",
    "plt.subplot(326)\n",
    "plt.hist(train.total_charges_scaled, bins=25, ec='black');"
   ]
  },
  {
   "cell_type": "code",
   "execution_count": 98,
   "id": "b150d592",
   "metadata": {
    "scrolled": false
   },
   "outputs": [
    {
     "data": {
      "image/png": "[encoded data removed]",
      "text/plain": [
       "<Figure size 432x288 with 3 Axes>"
      ]
     },
     "metadata": {
      "needs_background": "light"
     },
     "output_type": "display_data"
    }
   ],
   "source": [
    "plt.subplot(131)\n",
    "plt.scatter(train.tenure, train.tenure_scaled)\n",
    "plt.xlabel('Tenure (Months)')\n",
    "plt.ylabel('Tenure Scaled')\n",
    "plt.title('Non-Linear Scaler')\n",
    "plt.subplot(132)\n",
    "plt.scatter(train.monthly_charges, train.monthly_charges_scaled)\n",
    "plt.xlabel('Monthly Charges ($)')\n",
    "plt.ylabel('Monthly Charges Scaled')\n",
    "plt.title('Non-Linear Scaler')\n",
    "plt.subplot(133)\n",
    "plt.scatter(train.total_charges, train.total_charges_scaled)\n",
    "plt.xlabel('Total Charges ($)')\n",
    "plt.ylabel('Total Charges Scaled')\n",
    "plt.title('Non-Linear Scaler');"
   ]
  },
  {
   "cell_type": "markdown",
   "id": "73324caf",
   "metadata": {},
   "source": [
    "5. Based on the work you've done, choose a scaling method for your dataset. Write a function within your prepare.py that accepts as input the train, validate, and test data splits, and returns the scaled versions of each. Be sure to only learn the parameters for scaling from your training data!"
   ]
  },
  {
   "cell_type": "code",
   "execution_count": 107,
   "id": "5687bfb0",
   "metadata": {},
   "outputs": [],
   "source": [
    "def minmax_scaler_tvt(train, validate, test):\n",
    "    # list of columns float and int dtypes\n",
    "    num_cols = list(train.select_dtypes(include = ['float64', 'int64', 'complex']).columns)\n",
    "    \n",
    "    # min-max scaler object\n",
    "    scaler = sklearn.preprocessing.MinMaxScaler()\n",
    "    \n",
    "    # fit scaler\n",
    "    scaler.fit(train[num_cols])\n",
    "    \n",
    "    # scale\n",
    "    train_scaled = scaler.transform(train[num_cols])\n",
    "    validate_scaled = scaler.transform(validate[num_cols])\n",
    "    test_scaled = scaler.transform(test[num_cols])\n",
    "\n",
    "   # new column names\n",
    "    new_column_names = [c + '_scaled' for c in num_cols]\n",
    "\n",
    "    # add scaled columns to input dataset\n",
    "    train[new_column_names] = scaler.transform(train[num_cols])\n",
    "    validate[new_column_names] = scaler.transform(train[num_cols])\n",
    "    test[new_column_names] = scaler.transform(train[num_cols])\n",
    "    \n",
    "    return train, validate, test\n",
    "\n",
    "def standard_scaler_tvt(train, validate, test):\n",
    "    # list of columns float and int dtypes\n",
    "    num_cols = list(train.select_dtypes(include = ['float64', 'int64', 'complex']).columns)\n",
    "    \n",
    "    # standard scaler object\n",
    "    scaler = sklearn.preprocessing.StandardScaler()\n",
    "    \n",
    "    # fit scaler\n",
    "    scaler.fit(train[num_cols])\n",
    "    \n",
    "    # scale\n",
    "    train_scaled = scaler.transform(train[num_cols])\n",
    "    validate_scaled = scaler.transform(validate[num_cols])\n",
    "    test_scaled = scaler.transform(test[num_cols])\n",
    "\n",
    "    # new column names\n",
    "    new_column_names = [c + '_scaled' for c in num_cols]\n",
    "\n",
    "    # add scaled columns to input dataset\n",
    "    train[new_column_names] = scaler.transform(train[num_cols])\n",
    "    validate[new_column_names] = scaler.transform(train[num_cols])\n",
    "    test[new_column_names] = scaler.transform(train[num_cols])\n",
    "    \n",
    "    return train, validate, test\n",
    "\n",
    "def robust_scaler_tvt(train, validate, test):\n",
    "    # list of columns float and int dtypes\n",
    "    num_cols = list(train.select_dtypes(include = ['float64', 'int64', 'complex']).columns)\n",
    "    \n",
    "    # robust scaler object\n",
    "    scaler = sklearn.preprocessing.RobustScaler()\n",
    "    \n",
    "    # fit scaler\n",
    "    scaler.fit(train[num_cols])\n",
    "    \n",
    "    # scale\n",
    "    train_scaled = scaler.transform(train[num_cols])\n",
    "    validate_scaled = scaler.transform(validate[num_cols])\n",
    "    test_scaled = scaler.transform(test[num_cols])\n",
    "\n",
    "    # new column names\n",
    "    new_column_names = [c + '_scaled' for c in num_cols]\n",
    "\n",
    "    # add scaled columns to input dataset\n",
    "    train[new_column_names] = scaler.transform(train[num_cols])\n",
    "    validate[new_column_names] = scaler.transform(train[num_cols])\n",
    "    test[new_column_names] = scaler.transform(train[num_cols])\n",
    "    \n",
    "    return train, validate, test\n",
    "\n",
    "def nonlinear_scaler_tvt(train, validate, test):\n",
    "    # list of columns float and int dtypes\n",
    "    num_cols = list(train.select_dtypes(include = ['float64', 'int64', 'complex']).columns)\n",
    "    \n",
    "    # non-linear scaler object\n",
    "    scaler = sklearn.preprocessing.QuantileTransformer(output_distribution = 'normal')\n",
    "    \n",
    "    # fit scaler\n",
    "    scaler.fit(train[num_cols])\n",
    "    \n",
    "    # scale\n",
    "    train_scaled = scaler.transform(train[num_cols])\n",
    "    validate_scaled = scaler.transform(validate[num_cols])\n",
    "    test_scaled = scaler.transform(test[num_cols])\n",
    "    \n",
    "    # new column names\n",
    "    new_column_names = [c + '_scaled' for c in num_cols]\n",
    "\n",
    "    # add scaled columns to input dataset\n",
    "    train[new_column_names] = scaler.transform(train[num_cols])\n",
    "    validate[new_column_names] = scaler.transform(train[num_cols])\n",
    "    test[new_column_names] = scaler.transform(train[num_cols])\n",
    "\n",
    "    return train, validate, test"
   ]
  },
  {
   "cell_type": "code",
   "execution_count": 105,
   "id": "82601e55",
   "metadata": {},
   "outputs": [
    {
     "data": {
      "text/plain": [
       "((1758, 20), (3955, 20), (1319, 20))"
      ]
     },
     "execution_count": 105,
     "metadata": {},
     "output_type": "execute_result"
    }
   ],
   "source": [
    "train_and_validate, test = train_test_split(df, random_state=123)\n",
    "train, validate = train_test_split(train_and_validate)\n",
    "test.shape, train.shape, validate.shape"
   ]
  },
  {
   "cell_type": "code",
   "execution_count": 106,
   "id": "82a2e92d",
   "metadata": {},
   "outputs": [
    {
     "name": "stderr",
     "output_type": "stream",
     "text": [
      "/Users/davidrodriguez/anaconda3/lib/python3.7/site-packages/pandas/core/frame.py:3678: SettingWithCopyWarning: \n",
      "A value is trying to be set on a copy of a slice from a DataFrame.\n",
      "Try using .loc[row_indexer,col_indexer] = value instead\n",
      "\n",
      "See the caveats in the documentation: https://pandas.pydata.org/pandas-docs/stable/user_guide/indexing.html#returning-a-view-versus-a-copy\n",
      "  self[col] = igetitem(value, i)\n",
      "/Users/davidrodriguez/anaconda3/lib/python3.7/site-packages/pandas/core/frame.py:3678: SettingWithCopyWarning: \n",
      "A value is trying to be set on a copy of a slice from a DataFrame.\n",
      "Try using .loc[row_indexer,col_indexer] = value instead\n",
      "\n",
      "See the caveats in the documentation: https://pandas.pydata.org/pandas-docs/stable/user_guide/indexing.html#returning-a-view-versus-a-copy\n",
      "  self[col] = igetitem(value, i)\n",
      "/Users/davidrodriguez/anaconda3/lib/python3.7/site-packages/pandas/core/frame.py:3678: SettingWithCopyWarning: \n",
      "A value is trying to be set on a copy of a slice from a DataFrame.\n",
      "Try using .loc[row_indexer,col_indexer] = value instead\n",
      "\n",
      "See the caveats in the documentation: https://pandas.pydata.org/pandas-docs/stable/user_guide/indexing.html#returning-a-view-versus-a-copy\n",
      "  self[col] = igetitem(value, i)\n"
     ]
    },
    {
     "data": {
      "text/html": [
       "<div>\n",
       "<style scoped>\n",
       "    .dataframe tbody tr th:only-of-type {\n",
       "        vertical-align: middle;\n",
       "    }\n",
       "\n",
       "    .dataframe tbody tr th {\n",
       "        vertical-align: top;\n",
       "    }\n",
       "\n",
       "    .dataframe thead th {\n",
       "        text-align: right;\n",
       "    }\n",
       "</style>\n",
       "<table border=\"1\" class=\"dataframe\">\n",
       "  <thead>\n",
       "    <tr style=\"text-align: right;\">\n",
       "      <th></th>\n",
       "      <th>gender</th>\n",
       "      <th>senior_citizen</th>\n",
       "      <th>partner</th>\n",
       "      <th>dependents</th>\n",
       "      <th>tenure</th>\n",
       "      <th>phone_service</th>\n",
       "      <th>multiple_lines</th>\n",
       "      <th>online_security</th>\n",
       "      <th>online_backup</th>\n",
       "      <th>device_protection</th>\n",
       "      <th>...</th>\n",
       "      <th>paperless_billing</th>\n",
       "      <th>monthly_charges</th>\n",
       "      <th>total_charges</th>\n",
       "      <th>churn</th>\n",
       "      <th>contract_type</th>\n",
       "      <th>internet_service_type</th>\n",
       "      <th>payment_type</th>\n",
       "      <th>tenure_scaled</th>\n",
       "      <th>monthly_charges_scaled</th>\n",
       "      <th>total_charges_scaled</th>\n",
       "    </tr>\n",
       "  </thead>\n",
       "  <tbody>\n",
       "    <tr>\n",
       "      <th>6491</th>\n",
       "      <td>Male</td>\n",
       "      <td>No</td>\n",
       "      <td>Yes</td>\n",
       "      <td>No</td>\n",
       "      <td>50</td>\n",
       "      <td>Yes</td>\n",
       "      <td>No</td>\n",
       "      <td>No internet service</td>\n",
       "      <td>No internet service</td>\n",
       "      <td>No internet service</td>\n",
       "      <td>...</td>\n",
       "      <td>No</td>\n",
       "      <td>19.80</td>\n",
       "      <td>1013.20</td>\n",
       "      <td>No</td>\n",
       "      <td>Two year</td>\n",
       "      <td>None</td>\n",
       "      <td>Electronic check</td>\n",
       "      <td>0.690141</td>\n",
       "      <td>0.012475</td>\n",
       "      <td>0.114742</td>\n",
       "    </tr>\n",
       "    <tr>\n",
       "      <th>2561</th>\n",
       "      <td>Male</td>\n",
       "      <td>No</td>\n",
       "      <td>Yes</td>\n",
       "      <td>Yes</td>\n",
       "      <td>57</td>\n",
       "      <td>Yes</td>\n",
       "      <td>No</td>\n",
       "      <td>No</td>\n",
       "      <td>Yes</td>\n",
       "      <td>Yes</td>\n",
       "      <td>...</td>\n",
       "      <td>Yes</td>\n",
       "      <td>97.55</td>\n",
       "      <td>5598.00</td>\n",
       "      <td>No</td>\n",
       "      <td>One year</td>\n",
       "      <td>Fiber optic</td>\n",
       "      <td>Credit card (automatic)</td>\n",
       "      <td>0.788732</td>\n",
       "      <td>0.788423</td>\n",
       "      <td>0.643801</td>\n",
       "    </tr>\n",
       "    <tr>\n",
       "      <th>3944</th>\n",
       "      <td>Male</td>\n",
       "      <td>No</td>\n",
       "      <td>No</td>\n",
       "      <td>No</td>\n",
       "      <td>14</td>\n",
       "      <td>No</td>\n",
       "      <td>No phone service</td>\n",
       "      <td>No</td>\n",
       "      <td>No</td>\n",
       "      <td>Yes</td>\n",
       "      <td>...</td>\n",
       "      <td>Yes</td>\n",
       "      <td>55.00</td>\n",
       "      <td>771.95</td>\n",
       "      <td>No</td>\n",
       "      <td>Month-to-month</td>\n",
       "      <td>DSL</td>\n",
       "      <td>Electronic check</td>\n",
       "      <td>0.183099</td>\n",
       "      <td>0.363772</td>\n",
       "      <td>0.086903</td>\n",
       "    </tr>\n",
       "    <tr>\n",
       "      <th>5636</th>\n",
       "      <td>Male</td>\n",
       "      <td>No</td>\n",
       "      <td>Yes</td>\n",
       "      <td>Yes</td>\n",
       "      <td>67</td>\n",
       "      <td>Yes</td>\n",
       "      <td>No</td>\n",
       "      <td>No internet service</td>\n",
       "      <td>No internet service</td>\n",
       "      <td>No internet service</td>\n",
       "      <td>...</td>\n",
       "      <td>Yes</td>\n",
       "      <td>19.40</td>\n",
       "      <td>1284.20</td>\n",
       "      <td>No</td>\n",
       "      <td>Two year</td>\n",
       "      <td>None</td>\n",
       "      <td>Credit card (automatic)</td>\n",
       "      <td>0.929577</td>\n",
       "      <td>0.008483</td>\n",
       "      <td>0.146014</td>\n",
       "    </tr>\n",
       "    <tr>\n",
       "      <th>3905</th>\n",
       "      <td>Male</td>\n",
       "      <td>No</td>\n",
       "      <td>No</td>\n",
       "      <td>No</td>\n",
       "      <td>1</td>\n",
       "      <td>No</td>\n",
       "      <td>No phone service</td>\n",
       "      <td>No</td>\n",
       "      <td>No</td>\n",
       "      <td>No</td>\n",
       "      <td>...</td>\n",
       "      <td>No</td>\n",
       "      <td>35.90</td>\n",
       "      <td>35.90</td>\n",
       "      <td>Yes</td>\n",
       "      <td>Month-to-month</td>\n",
       "      <td>DSL</td>\n",
       "      <td>Electronic check</td>\n",
       "      <td>0.000000</td>\n",
       "      <td>0.173154</td>\n",
       "      <td>0.001967</td>\n",
       "    </tr>\n",
       "  </tbody>\n",
       "</table>\n",
       "<p>5 rows × 23 columns</p>\n",
       "</div>"
      ],
      "text/plain": [
       "     gender senior_citizen partner dependents  tenure phone_service  \\\n",
       "6491   Male             No     Yes         No      50           Yes   \n",
       "2561   Male             No     Yes        Yes      57           Yes   \n",
       "3944   Male             No      No         No      14            No   \n",
       "5636   Male             No     Yes        Yes      67           Yes   \n",
       "3905   Male             No      No         No       1            No   \n",
       "\n",
       "        multiple_lines      online_security        online_backup  \\\n",
       "6491                No  No internet service  No internet service   \n",
       "2561                No                   No                  Yes   \n",
       "3944  No phone service                   No                   No   \n",
       "5636                No  No internet service  No internet service   \n",
       "3905  No phone service                   No                   No   \n",
       "\n",
       "        device_protection  ... paperless_billing monthly_charges  \\\n",
       "6491  No internet service  ...                No           19.80   \n",
       "2561                  Yes  ...               Yes           97.55   \n",
       "3944                  Yes  ...               Yes           55.00   \n",
       "5636  No internet service  ...               Yes           19.40   \n",
       "3905                   No  ...                No           35.90   \n",
       "\n",
       "     total_charges churn   contract_type  internet_service_type  \\\n",
       "6491       1013.20    No        Two year                   None   \n",
       "2561       5598.00    No        One year            Fiber optic   \n",
       "3944        771.95    No  Month-to-month                    DSL   \n",
       "5636       1284.20    No        Two year                   None   \n",
       "3905         35.90   Yes  Month-to-month                    DSL   \n",
       "\n",
       "                 payment_type tenure_scaled monthly_charges_scaled  \\\n",
       "6491         Electronic check      0.690141               0.012475   \n",
       "2561  Credit card (automatic)      0.788732               0.788423   \n",
       "3944         Electronic check      0.183099               0.363772   \n",
       "5636  Credit card (automatic)      0.929577               0.008483   \n",
       "3905         Electronic check      0.000000               0.173154   \n",
       "\n",
       "     total_charges_scaled  \n",
       "6491             0.114742  \n",
       "2561             0.643801  \n",
       "3944             0.086903  \n",
       "5636             0.146014  \n",
       "3905             0.001967  \n",
       "\n",
       "[5 rows x 23 columns]"
      ]
     },
     "execution_count": 106,
     "metadata": {},
     "output_type": "execute_result"
    }
   ],
   "source": [
    "train,validate, test = minmax_scaler_tvt(train, validate, test)\n",
    "train.head()"
   ]
  },
  {
   "cell_type": "code",
   "execution_count": null,
   "id": "a166b829",
   "metadata": {},
   "outputs": [],
   "source": []
  }
 ],
 "metadata": {
  "kernelspec": {
   "display_name": "Python 3 (ipykernel)",
   "language": "python",
   "name": "python3"
  },
  "language_info": {
   "codemirror_mode": {
    "name": "ipython",
    "version": 3
   },
   "file_extension": ".py",
   "mimetype": "text/x-python",
   "name": "python",
   "nbconvert_exporter": "python",
   "pygments_lexer": "ipython3",
   "version": "3.7.3"
  }
 },
 "nbformat": 4,
 "nbformat_minor": 5
}
